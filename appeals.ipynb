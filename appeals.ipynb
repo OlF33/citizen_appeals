{
 "cells": [
  {
   "cell_type": "code",
   "execution_count": 1,
   "id": "0779c584-a3ac-4f01-a4ab-74278b3f5b82",
   "metadata": {},
   "outputs": [],
   "source": [
    "import sys\n",
    "sys.path.append('/home/oleg/.python/lib/python3.11/site-packages/')\n",
    "from datetime import datetime\n",
    "import pickle\n",
    "import numpy as np\n",
    "import pandas as pd\n",
    "import sklearn\n",
    "from sklearn import cluster\n",
    "# import tensorflow as tf\n",
    "import transformers\n",
    "import torch"
   ]
  },
  {
   "cell_type": "code",
   "execution_count": 2,
   "id": "95b3b056-be0a-4662-ba7b-edb0445270d2",
   "metadata": {},
   "outputs": [
    {
     "name": "stdout",
     "output_type": "stream",
     "text": [
      "Python 3.11.6 (main, Nov 14 2023, 09:36:21) [GCC 13.2.1 20230801]\n",
      "numpy 1.26.1\n",
      "pandas 1.5.3\n",
      "sklearn 1.3.2\n",
      "transformers 4.33.1\n",
      "torch 2.1.0\n"
     ]
    }
   ],
   "source": [
    "print('Python', sys.version)\n",
    "modules = [np, pd, sklearn, transformers, torch]\n",
    "for module in modules:\n",
    "    print(module.__name__, module.__version__)"
   ]
  },
  {
   "cell_type": "code",
   "execution_count": 3,
   "id": "172c5081-a68f-4266-80b8-106e14c6fa37",
   "metadata": {},
   "outputs": [
    {
     "data": {
      "text/html": [
       "<div>\n",
       "<style scoped>\n",
       "    .dataframe tbody tr th:only-of-type {\n",
       "        vertical-align: middle;\n",
       "    }\n",
       "\n",
       "    .dataframe tbody tr th {\n",
       "        vertical-align: top;\n",
       "    }\n",
       "\n",
       "    .dataframe thead th {\n",
       "        text-align: right;\n",
       "    }\n",
       "</style>\n",
       "<table border=\"1\" class=\"dataframe\">\n",
       "  <thead>\n",
       "    <tr style=\"text-align: right;\">\n",
       "      <th></th>\n",
       "      <th>Исполнитель</th>\n",
       "      <th>Группа тем</th>\n",
       "      <th>Текст инцидента</th>\n",
       "      <th>Тема</th>\n",
       "    </tr>\n",
       "  </thead>\n",
       "  <tbody>\n",
       "    <tr>\n",
       "      <th>0</th>\n",
       "      <td>Лысьвенский городской округ</td>\n",
       "      <td>Благоустройство</td>\n",
       "      <td>'Добрый день. Сегодня, 20.08.22, моя мать шла ...</td>\n",
       "      <td>★ Ямы во дворах</td>\n",
       "    </tr>\n",
       "    <tr>\n",
       "      <th>1</th>\n",
       "      <td>Министерство социального развития ПК</td>\n",
       "      <td>Социальное обслуживание и защита</td>\n",
       "      <td>'Пермь г, +79194692145. В Перми с ноября 2021 ...</td>\n",
       "      <td>Оказание гос. соц. помощи</td>\n",
       "    </tr>\n",
       "    <tr>\n",
       "      <th>2</th>\n",
       "      <td>Министерство социального развития ПК</td>\n",
       "      <td>Социальное обслуживание и защита</td>\n",
       "      <td>'Добрый день ! Скажите пожалуйста если подовал...</td>\n",
       "      <td>Дети и многодетные семьи</td>\n",
       "    </tr>\n",
       "    <tr>\n",
       "      <th>3</th>\n",
       "      <td>Город Пермь</td>\n",
       "      <td>Общественный транспорт</td>\n",
       "      <td>'Каждая из них не о чем. Люди на остановках хо...</td>\n",
       "      <td>Содержание остановок</td>\n",
       "    </tr>\n",
       "    <tr>\n",
       "      <th>4</th>\n",
       "      <td>Министерство здравоохранения</td>\n",
       "      <td>Здравоохранение/Медицина</td>\n",
       "      <td>'В Березниках у сына привитого откоронавируса ...</td>\n",
       "      <td>Технические проблемы с записью на прием к врачу</td>\n",
       "    </tr>\n",
       "    <tr>\n",
       "      <th>...</th>\n",
       "      <td>...</td>\n",
       "      <td>...</td>\n",
       "      <td>...</td>\n",
       "      <td>...</td>\n",
       "    </tr>\n",
       "    <tr>\n",
       "      <th>23123</th>\n",
       "      <td>Губахинский городской округ</td>\n",
       "      <td>ЖКХ</td>\n",
       "      <td>'Город Гремячинск-— ситуация с теплом на улице...</td>\n",
       "      <td>Ненадлежащее качество или отсутствие отопления</td>\n",
       "    </tr>\n",
       "    <tr>\n",
       "      <th>23124</th>\n",
       "      <td>Министерство здравоохранения</td>\n",
       "      <td>Здравоохранение/Медицина</td>\n",
       "      <td>'Здравствуйте у меня ребёнку 2 месяца , тест н...</td>\n",
       "      <td>Технические проблемы с записью на прием к врачу</td>\n",
       "    </tr>\n",
       "    <tr>\n",
       "      <th>23125</th>\n",
       "      <td>Лысьвенский городской округ</td>\n",
       "      <td>Благоустройство</td>\n",
       "      <td>'А что творится с благоустройством дворов! Воо...</td>\n",
       "      <td>Благоустройство придомовых территорий</td>\n",
       "    </tr>\n",
       "    <tr>\n",
       "      <th>23126</th>\n",
       "      <td>Лысьвенский городской округ</td>\n",
       "      <td>ЖКХ</td>\n",
       "      <td>'Сообщение без текста</td>\n",
       "      <td>Ненадлежащее качество или отсутствие отопления</td>\n",
       "    </tr>\n",
       "    <tr>\n",
       "      <th>23127</th>\n",
       "      <td>Министерство социального развития ПК</td>\n",
       "      <td>Социальное обслуживание и защита</td>\n",
       "      <td>'Здравствуйте, подскажите пожалуйста. Сколько ...</td>\n",
       "      <td>Оказание гос. соц. помощи</td>\n",
       "    </tr>\n",
       "  </tbody>\n",
       "</table>\n",
       "<p>23128 rows × 4 columns</p>\n",
       "</div>"
      ],
      "text/plain": [
       "                                Исполнитель                        Группа тем  \\\n",
       "0               Лысьвенский городской округ                   Благоустройство   \n",
       "1      Министерство социального развития ПК  Социальное обслуживание и защита   \n",
       "2      Министерство социального развития ПК  Социальное обслуживание и защита   \n",
       "3                               Город Пермь            Общественный транспорт   \n",
       "4              Министерство здравоохранения          Здравоохранение/Медицина   \n",
       "...                                     ...                               ...   \n",
       "23123           Губахинский городской округ                               ЖКХ   \n",
       "23124          Министерство здравоохранения          Здравоохранение/Медицина   \n",
       "23125           Лысьвенский городской округ                   Благоустройство   \n",
       "23126           Лысьвенский городской округ                               ЖКХ   \n",
       "23127  Министерство социального развития ПК  Социальное обслуживание и защита   \n",
       "\n",
       "                                         Текст инцидента  \\\n",
       "0      'Добрый день. Сегодня, 20.08.22, моя мать шла ...   \n",
       "1      'Пермь г, +79194692145. В Перми с ноября 2021 ...   \n",
       "2      'Добрый день ! Скажите пожалуйста если подовал...   \n",
       "3      'Каждая из них не о чем. Люди на остановках хо...   \n",
       "4      'В Березниках у сына привитого откоронавируса ...   \n",
       "...                                                  ...   \n",
       "23123  'Город Гремячинск-— ситуация с теплом на улице...   \n",
       "23124  'Здравствуйте у меня ребёнку 2 месяца , тест н...   \n",
       "23125  'А что творится с благоустройством дворов! Воо...   \n",
       "23126                              'Сообщение без текста   \n",
       "23127  'Здравствуйте, подскажите пожалуйста. Сколько ...   \n",
       "\n",
       "                                                  Тема  \n",
       "0                                      ★ Ямы во дворах  \n",
       "1                            Оказание гос. соц. помощи  \n",
       "2                             Дети и многодетные семьи  \n",
       "3                                 Содержание остановок  \n",
       "4      Технические проблемы с записью на прием к врачу  \n",
       "...                                                ...  \n",
       "23123   Ненадлежащее качество или отсутствие отопления  \n",
       "23124  Технические проблемы с записью на прием к врачу  \n",
       "23125            Благоустройство придомовых территорий  \n",
       "23126   Ненадлежащее качество или отсутствие отопления  \n",
       "23127                        Оказание гос. соц. помощи  \n",
       "\n",
       "[23128 rows x 4 columns]"
      ]
     },
     "execution_count": 3,
     "metadata": {},
     "output_type": "execute_result"
    }
   ],
   "source": [
    "df_data = pd.read_csv('train_dataset_train.csv', sep=';')\n",
    "df_data"
   ]
  },
  {
   "cell_type": "code",
   "execution_count": 5,
   "id": "a062970b-6fcf-4634-9ed1-06996de44254",
   "metadata": {},
   "outputs": [
    {
     "data": {
      "text/plain": [
       "2313"
      ]
     },
     "execution_count": 5,
     "metadata": {},
     "output_type": "execute_result"
    }
   ],
   "source": [
    "from math import ceil\n",
    "int(ceil(len(df_data)/10))"
   ]
  },
  {
   "cell_type": "code",
   "execution_count": 4,
   "id": "4db64ff4-233a-4d01-a0d6-64faf2a53023",
   "metadata": {},
   "outputs": [
    {
     "data": {
      "text/plain": [
       "Дети и многодетные семьи                                                                                           2008\n",
       "Оказание гос. соц. помощи                                                                                          1886\n",
       "★ Нарушение правил очистки дорог от снега и наледи/Обращения о необходимости очистить тротуар от снега и наледи    1269\n",
       "Технические проблемы с записью на прием к врачу                                                                     941\n",
       "★ Оказание медицинской помощи не в полном объеме/отказ в оказании медицинской помощи                                885\n",
       "                                                                                                                   ... \n",
       "Выбросы вредных веществ в атмосферу/загрязнение воздуха                                                               8\n",
       "Обработка и уничтожение грызунов (дератизация)                                                                        8\n",
       "Установка ограждений, препятствующих въезду на тротуар, газон на дворовой территории МКД                              8\n",
       "Общее впечатление                                                                                                     7\n",
       "Нарушение технологии и (или) сроков производства работ                                                                7\n",
       "Name: Тема, Length: 195, dtype: int64"
      ]
     },
     "execution_count": 4,
     "metadata": {},
     "output_type": "execute_result"
    }
   ],
   "source": [
    "s_themes = df_data['Тема'].value_counts()\n",
    "s_themes"
   ]
  },
  {
   "cell_type": "code",
   "execution_count": 5,
   "id": "8720af20-fc50-4c99-a075-e6a4e83f713a",
   "metadata": {},
   "outputs": [
    {
     "data": {
      "text/plain": [
       "Министерство здравоохранения                          5765\n",
       "Город Пермь                                           4550\n",
       "Министерство социального развития ПК                  4386\n",
       "Лысьвенский городской округ                           2073\n",
       "ИГЖН ПК                                               1861\n",
       "АО ПРО ТКО                                            1514\n",
       "Губахинский городской округ                           1097\n",
       "Александровский муниципальный округ Пермского края     979\n",
       "Министерство образования                               520\n",
       "Бардымский муниципальный округ Пермского края          383\n",
       "Name: Исполнитель, dtype: int64"
      ]
     },
     "execution_count": 5,
     "metadata": {},
     "output_type": "execute_result"
    }
   ],
   "source": [
    "s_resp = df_data['Исполнитель'].value_counts()\n",
    "s_resp"
   ]
  },
  {
   "cell_type": "code",
   "execution_count": 6,
   "id": "58dedf8c-c790-4eb4-84b4-b570a2bdeaa1",
   "metadata": {},
   "outputs": [
    {
     "data": {
      "text/plain": [
       "Здравоохранение/Медицина                    4673\n",
       "Социальное обслуживание и защита            4626\n",
       "Дороги                                      3132\n",
       "ЖКХ                                         2703\n",
       "Благоустройство                             2529\n",
       "Мусор/Свалки/ТКО                            1735\n",
       "Общественный транспорт                       869\n",
       "Коронавирус                                  810\n",
       "Образование                                  701\n",
       "Безопасность                                 299\n",
       "Связь и телевидение                          236\n",
       "Мобилизация                                  134\n",
       "Физическая культура и спорт                  120\n",
       "Строительство и архитектура                  113\n",
       "Спецпроекты                                   84\n",
       "Газ и топливо                                 83\n",
       "Культура                                      69\n",
       "Электроснабжение                              37\n",
       "Экономика и бизнес                            30\n",
       "Экология                                      25\n",
       "Памятники и объекты культурного наследия      24\n",
       "Государственная собственность                 24\n",
       "Роспотребнадзор                               23\n",
       "Торговля                                      20\n",
       "МФЦ \"Мои документы\"                           18\n",
       "Погребение и похоронное дело                  11\n",
       "Name: Группа тем, dtype: int64"
      ]
     },
     "execution_count": 6,
     "metadata": {},
     "output_type": "execute_result"
    }
   ],
   "source": [
    "s_group = df_data['Группа тем'].value_counts()\n",
    "s_group"
   ]
  },
  {
   "cell_type": "code",
   "execution_count": 7,
   "id": "bdc1ee1a-6be9-49de-bafb-b1f4b51e36b1",
   "metadata": {},
   "outputs": [],
   "source": [
    "class ProgressMonitor():\n",
    "    # def start(start=0, stop, step=10):\n",
    "    def __init__(self, *args):\n",
    "        import pandas as pd\n",
    "        start, stop, step = 0, 100, 10\n",
    "        if len(args) == 3:\n",
    "            start, stop, step = args\n",
    "        elif len(args) == 2:\n",
    "            start, stop = args\n",
    "        elif len(args) == 1:\n",
    "            stop = args[0]\n",
    "            \n",
    "        self.start = start\n",
    "        self.stop = stop\n",
    "        self.step = step\n",
    "        self.qty = stop - start\n",
    "        self.start_time = pd.Timestamp.now()\n",
    "        self.last_percent = 0\n",
    "        self.last_time = self.start_time\n",
    "        print('Начало', self.start_time.strftime('%d.%m.%Y %X'))\n",
    "\n",
    "    def update(self, param):\n",
    "        import pandas as pd\n",
    "        percent = 100*(param - self.start)//self.qty\n",
    "        if percent >= self.last_percent + self.step:\n",
    "            cur_time = pd.Timestamp.now()\n",
    "            print(f'{percent: 3d}% {cur_time.strftime(\"%d.%m.%Y %X\")} {cur_time - self.last_time}')\n",
    "            self.last_percent = percent\n",
    "            self.last_time = cur_time\n",
    "            \n",
    "    def finish(self):\n",
    "        import pandas as pd\n",
    "        cur_time = pd.Timestamp.now()\n",
    "        print('Завершено', cur_time.strftime('%d.%m.%Y %X'))\n",
    "        print('Продолжительность', cur_time - self.start_time)"
   ]
  },
  {
   "cell_type": "code",
   "execution_count": 8,
   "id": "78cd5caa-40fa-48cb-b756-61de5b448676",
   "metadata": {},
   "outputs": [
    {
     "name": "stderr",
     "output_type": "stream",
     "text": [
      "2023-11-23 20:42:02.773577: I tensorflow/core/platform/cpu_feature_guard.cc:182] This TensorFlow binary is optimized to use available CPU instructions in performance-critical operations.\n",
      "To enable the following instructions: SSE3 SSE4.1 SSE4.2 AVX AVX2 FMA, in other operations, rebuild TensorFlow with the appropriate compiler flags.\n"
     ]
    }
   ],
   "source": [
    "from transformers import AutoTokenizer, AutoModel\n",
    "sbert_t = AutoTokenizer.from_pretrained(\"ai-forever/sbert_large_mt_nlu_ru\")\n",
    "sbert_m = AutoModel.from_pretrained(\"ai-forever/sbert_large_mt_nlu_ru\")"
   ]
  },
  {
   "cell_type": "code",
   "execution_count": 9,
   "id": "52870907-c708-4232-acb3-0e8fe6c6776f",
   "metadata": {},
   "outputs": [
    {
     "name": "stdout",
     "output_type": "stream",
     "text": [
      "Начало 23.11.2023 20:43:51\n",
      " 10% 23.11.2023 21:04:00 0 days 00:20:08.751947\n",
      " 20% 23.11.2023 21:26:50 0 days 00:22:49.539602\n",
      " 30% 23.11.2023 21:49:10 0 days 00:22:20.649039\n",
      " 40% 23.11.2023 22:11:53 0 days 00:22:42.770210\n",
      " 50% 23.11.2023 22:36:05 0 days 00:24:11.725107\n",
      " 60% 23.11.2023 23:00:00 0 days 00:23:54.746115\n",
      " 70% 23.11.2023 23:20:05 0 days 00:20:05.427534\n",
      " 80% 23.11.2023 23:41:25 0 days 00:21:20.139058\n",
      " 90% 24.11.2023 00:02:01 0 days 00:20:36.215255\n",
      "Завершено 24.11.2023 00:23:36\n",
      "Продолжительность 0 days 03:39:44.251733\n"
     ]
    }
   ],
   "source": [
    "prog_mon = ProgressMonitor(len(df_data))\n",
    "outputs = []\n",
    "for i, release in enumerate(df_data['Текст инцидента']):\n",
    "    encoded_input = sbert_t(release, padding=True, truncation=True, max_length=512, return_tensors='pt')\n",
    "    with torch.no_grad():\n",
    "        model_output = sbert_m(**encoded_input)\n",
    "    outputs.append(model_output[0][0].numpy())\n",
    "    prog_mon.update(i)\n",
    "# outputs = np.array(outputs)\n",
    "prog_mon.finish()"
   ]
  },
  {
   "cell_type": "code",
   "execution_count": 10,
   "id": "a14a89b6-7aa5-43bc-a9b9-c17ed697f717",
   "metadata": {},
   "outputs": [
    {
     "data": {
      "text/plain": [
       "(103, 1024)"
      ]
     },
     "execution_count": 10,
     "metadata": {},
     "output_type": "execute_result"
    }
   ],
   "source": [
    "outputs[0].shape"
   ]
  },
  {
   "cell_type": "code",
   "execution_count": 11,
   "id": "bfc81fb7-0c9f-4615-ad5e-03fb3211b76b",
   "metadata": {},
   "outputs": [
    {
     "data": {
      "text/plain": [
       "(61, 1024)"
      ]
     },
     "execution_count": 11,
     "metadata": {},
     "output_type": "execute_result"
    }
   ],
   "source": [
    "outputs[1].shape"
   ]
  },
  {
   "cell_type": "code",
   "execution_count": 15,
   "id": "f532bf4b-9c12-4247-a91a-b622b0a488dd",
   "metadata": {},
   "outputs": [
    {
     "data": {
      "text/plain": [
       "<map at 0x7f1f59cf8c10>"
      ]
     },
     "execution_count": 15,
     "metadata": {},
     "output_type": "execute_result"
    }
   ],
   "source": [
    "lens = list(map(len, outputs))\n",
    "lens"
   ]
  },
  {
   "cell_type": "code",
   "execution_count": 16,
   "id": "6f605fd0-0efb-48a8-8b97-278bce27c726",
   "metadata": {},
   "outputs": [
    {
     "ename": "ValueError",
     "evalue": "min() arg is an empty sequence",
     "output_type": "error",
     "traceback": [
      "\u001b[0;31m---------------------------------------------------------------------------\u001b[0m",
      "\u001b[0;31mValueError\u001b[0m                                Traceback (most recent call last)",
      "Cell \u001b[0;32mIn[16], line 1\u001b[0m\n\u001b[0;32m----> 1\u001b[0m \u001b[38;5;28mmax\u001b[39m(lens), \u001b[38;5;28;43mmin\u001b[39;49m\u001b[43m(\u001b[49m\u001b[43mlens\u001b[49m\u001b[43m)\u001b[49m\n",
      "\u001b[0;31mValueError\u001b[0m: min() arg is an empty sequence"
     ]
    }
   ],
   "source": [
    "max(lens), min(lens)"
   ]
  },
  {
   "cell_type": "markdown",
   "id": "b1a0d5f7-d739-4927-890c-d230b950f07f",
   "metadata": {},
   "source": [
    "___"
   ]
  },
  {
   "cell_type": "code",
   "execution_count": 1,
   "id": "02c3d849-7dcb-49c7-8f2e-3781eab6914f",
   "metadata": {},
   "outputs": [],
   "source": [
    "import sys\n",
    "sys.path.append('/home/oleg/.python/lib/python3.11/site-packages/')\n",
    "from datetime import datetime\n",
    "import pickle\n",
    "import numpy as np\n",
    "import pandas as pd\n",
    "import sklearn\n",
    "from sklearn import cluster\n",
    "# import tensorflow as tf\n",
    "# import transformers\n",
    "# import torch"
   ]
  },
  {
   "cell_type": "code",
   "execution_count": 2,
   "id": "a3535860-b3ab-4f8f-bc1d-98077a8403a8",
   "metadata": {},
   "outputs": [],
   "source": [
    "with open('sbert_0.pickle', 'rb') as f:\n",
    "    output0 = pickle.load(f)"
   ]
  },
  {
   "cell_type": "code",
   "execution_count": 3,
   "id": "33c4704b-8a6d-4fa7-b1c0-dd76b44fcf8c",
   "metadata": {},
   "outputs": [],
   "source": [
    "with open('sbert_1.pickle', 'rb') as f:\n",
    "    output1 = pickle.load(f)"
   ]
  },
  {
   "cell_type": "code",
   "execution_count": 4,
   "id": "b28d2748-4263-466d-872f-a3f3281dc5c8",
   "metadata": {},
   "outputs": [],
   "source": [
    "outputs = output0 + output1"
   ]
  },
  {
   "cell_type": "code",
   "execution_count": 5,
   "id": "4524dd3b-e8d8-4e62-be56-473a7ce811e5",
   "metadata": {},
   "outputs": [],
   "source": [
    "del output0, output1"
   ]
  },
  {
   "cell_type": "code",
   "execution_count": 6,
   "id": "bbe377ad-67ef-46d6-89e5-37147b8596ac",
   "metadata": {},
   "outputs": [
    {
     "data": {
      "text/plain": [
       "9252"
      ]
     },
     "execution_count": 6,
     "metadata": {},
     "output_type": "execute_result"
    }
   ],
   "source": [
    "len(outputs)"
   ]
  },
  {
   "cell_type": "code",
   "execution_count": 7,
   "id": "135eddba-1e58-496c-939f-12d9b790fa28",
   "metadata": {},
   "outputs": [],
   "source": [
    "lens = list(map(len, outputs))"
   ]
  },
  {
   "cell_type": "code",
   "execution_count": 8,
   "id": "aa383565-8519-46eb-ab79-2e640746f8d9",
   "metadata": {},
   "outputs": [
    {
     "data": {
      "text/plain": [
       "(512, 3)"
      ]
     },
     "execution_count": 8,
     "metadata": {},
     "output_type": "execute_result"
    }
   ],
   "source": [
    "max(lens), min(lens)"
   ]
  },
  {
   "cell_type": "code",
   "execution_count": 9,
   "id": "396f19ad-5b0c-4341-820c-f4ecf021525f",
   "metadata": {},
   "outputs": [
    {
     "data": {
      "text/plain": [
       "542541"
      ]
     },
     "execution_count": 9,
     "metadata": {},
     "output_type": "execute_result"
    }
   ],
   "source": [
    "sum(lens)"
   ]
  },
  {
   "cell_type": "code",
   "execution_count": 10,
   "id": "d3484e6c-7b49-4a55-a843-4b4e8da85d40",
   "metadata": {},
   "outputs": [],
   "source": [
    "df_data = pd.read_csv('train_dataset_train.csv', sep=';')"
   ]
  },
  {
   "cell_type": "code",
   "execution_count": 11,
   "id": "d6cc4cd7-fc4b-4eba-8b6b-a7c9bc814476",
   "metadata": {},
   "outputs": [
    {
     "data": {
      "text/plain": [
       "Дети и многодетные семьи                                                                                           2008\n",
       "Оказание гос. соц. помощи                                                                                          1886\n",
       "★ Нарушение правил очистки дорог от снега и наледи/Обращения о необходимости очистить тротуар от снега и наледи    1269\n",
       "Технические проблемы с записью на прием к врачу                                                                     941\n",
       "★ Оказание медицинской помощи не в полном объеме/отказ в оказании медицинской помощи                                885\n",
       "                                                                                                                   ... \n",
       "Выбросы вредных веществ в атмосферу/загрязнение воздуха                                                               8\n",
       "Обработка и уничтожение грызунов (дератизация)                                                                        8\n",
       "Установка ограждений, препятствующих въезду на тротуар, газон на дворовой территории МКД                              8\n",
       "Общее впечатление                                                                                                     7\n",
       "Нарушение технологии и (или) сроков производства работ                                                                7\n",
       "Name: Тема, Length: 195, dtype: int64"
      ]
     },
     "execution_count": 11,
     "metadata": {},
     "output_type": "execute_result"
    }
   ],
   "source": [
    "s_themes = df_data['Тема'].value_counts()\n",
    "s_themes"
   ]
  },
  {
   "cell_type": "code",
   "execution_count": 12,
   "id": "fc52bc59-d930-4551-a182-db565b4df240",
   "metadata": {},
   "outputs": [
    {
     "data": {
      "text/plain": [
       "Здравоохранение/Медицина                    4673\n",
       "Социальное обслуживание и защита            4626\n",
       "Дороги                                      3132\n",
       "ЖКХ                                         2703\n",
       "Благоустройство                             2529\n",
       "Мусор/Свалки/ТКО                            1735\n",
       "Общественный транспорт                       869\n",
       "Коронавирус                                  810\n",
       "Образование                                  701\n",
       "Безопасность                                 299\n",
       "Связь и телевидение                          236\n",
       "Мобилизация                                  134\n",
       "Физическая культура и спорт                  120\n",
       "Строительство и архитектура                  113\n",
       "Спецпроекты                                   84\n",
       "Газ и топливо                                 83\n",
       "Культура                                      69\n",
       "Электроснабжение                              37\n",
       "Экономика и бизнес                            30\n",
       "Экология                                      25\n",
       "Памятники и объекты культурного наследия      24\n",
       "Государственная собственность                 24\n",
       "Роспотребнадзор                               23\n",
       "Торговля                                      20\n",
       "МФЦ \"Мои документы\"                           18\n",
       "Погребение и похоронное дело                  11\n",
       "Name: Группа тем, dtype: int64"
      ]
     },
     "execution_count": 12,
     "metadata": {},
     "output_type": "execute_result"
    }
   ],
   "source": [
    "s_group = df_data['Группа тем'].value_counts()\n",
    "s_group"
   ]
  },
  {
   "cell_type": "code",
   "execution_count": 13,
   "id": "d166ea50-e46d-4ba9-b5d3-acafff640267",
   "metadata": {},
   "outputs": [
    {
     "data": {
      "text/plain": [
       "Министерство здравоохранения                          5765\n",
       "Город Пермь                                           4550\n",
       "Министерство социального развития ПК                  4386\n",
       "Лысьвенский городской округ                           2073\n",
       "ИГЖН ПК                                               1861\n",
       "АО ПРО ТКО                                            1514\n",
       "Губахинский городской округ                           1097\n",
       "Александровский муниципальный округ Пермского края     979\n",
       "Министерство образования                               520\n",
       "Бардымский муниципальный округ Пермского края          383\n",
       "Name: Исполнитель, dtype: int64"
      ]
     },
     "execution_count": 13,
     "metadata": {},
     "output_type": "execute_result"
    }
   ],
   "source": [
    "s_contractor = df_data['Исполнитель'].value_counts()\n",
    "s_contractor"
   ]
  },
  {
   "cell_type": "code",
   "execution_count": 14,
   "id": "ee5dbcd4-b400-4dd2-9314-9882d3306d73",
   "metadata": {},
   "outputs": [
    {
     "data": {
      "text/plain": [
       "(195, 26, 10)"
      ]
     },
     "execution_count": 14,
     "metadata": {},
     "output_type": "execute_result"
    }
   ],
   "source": [
    "len(s_themes), len(s_group), len(s_contractor)"
   ]
  },
  {
   "cell_type": "code",
   "execution_count": 15,
   "id": "d71fa410-f691-42bd-ba39-8a4d216c1157",
   "metadata": {},
   "outputs": [
    {
     "data": {
      "text/plain": [
       "Тема                                         Группа тем                      \n",
       "Аварийное жилье/переселение                  Социальное обслуживание и защита    234\n",
       "Архитектура города                           Строительство и архитектура          20\n",
       "Беженцы                                      Безопасность                         19\n",
       "Безопасность образовательного процесса       Образование                          45\n",
       "Безопасность общественных пространств        Безопасность                        101\n",
       "                                                                                ... \n",
       "★ Протечки с кровли (системы водостока)      ЖКХ                                  81\n",
       "★ Скорая помощь                              Здравоохранение/Медицина             87\n",
       "★ Стихийные свалки в городе/в парках/в лесу  Мусор/Свалки/ТКО                     52\n",
       "★ Уборка/Вывоз мусора                        Мусор/Свалки/ТКО                    482\n",
       "★ Ямы во дворах                              Благоустройство                      18\n",
       "Name: Группа тем, Length: 195, dtype: int64"
      ]
     },
     "execution_count": 15,
     "metadata": {},
     "output_type": "execute_result"
    }
   ],
   "source": [
    "# здесь надо посмотреть, однозначно ли тема входит в группу\n",
    "grouped = df_data.groupby(['Тема', 'Группа тем'])['Группа тем'].count()\n",
    "grouped"
   ]
  },
  {
   "cell_type": "code",
   "execution_count": 16,
   "id": "97049575-8f44-440c-931c-9868a4225c89",
   "metadata": {},
   "outputs": [
    {
     "data": {
      "text/plain": [
       "Тема                         Исполнитель                                       \n",
       "Аварийное жилье/переселение  Александровский муниципальный округ Пермского края     41\n",
       "                             Город Пермь                                           107\n",
       "                             Губахинский городской округ                            36\n",
       "                             ИГЖН ПК                                                 7\n",
       "                             Лысьвенский городской округ                            43\n",
       "                                                                                  ... \n",
       "★ Ямы во дворах              Бардымский муниципальный округ Пермского края           1\n",
       "                             Город Пермь                                             5\n",
       "                             Губахинский городской округ                             1\n",
       "                             ИГЖН ПК                                                 4\n",
       "                             Лысьвенский городской округ                             5\n",
       "Name: Исполнитель, Length: 915, dtype: int64"
      ]
     },
     "execution_count": 16,
     "metadata": {},
     "output_type": "execute_result"
    }
   ],
   "source": [
    "#  и в исполнителя\n",
    "grouped = df_data.groupby(['Тема', 'Исполнитель'])['Исполнитель'].count()\n",
    "grouped"
   ]
  },
  {
   "cell_type": "markdown",
   "id": "4ee483b6-b437-4244-8c84-38692dd03045",
   "metadata": {},
   "source": [
    "Количество строк в первом случае совпадает с количеством тем, значит, ни одна тема не повторяется, значит, входит только в одну группу.\n",
    "Чего не скажешь об исполнителях."
   ]
  },
  {
   "cell_type": "markdown",
   "id": "7fb88241-d5dc-4476-9a73-7ed19b714757",
   "metadata": {},
   "source": [
    "1. Делаем список всех длин эмбеддинга для оставшихся данных\n",
    "2. Получаем список индексов сэмплов, у которых длина эмбеддинга от 40 до 400\n",
    "3. Из списка выбираем сэмплы а) чтобы были представлены все темы б) чтобы суммарная длина эмбеддингов была около 25к\n",
    "4. Берёзим 25к векторов\n",
    "5. Остальные вектора разбрасываем по кластерам предиктом\n",
    "6. Считаем статистику по кластерам у каждого сэмпла, нормируем по общему количеству векторов на сэмпл\n",
    "7. обучаем кэтбуст"
   ]
  },
  {
   "cell_type": "code",
   "execution_count": 17,
   "id": "f34a878a-dea9-4af6-8927-a15be439ae15",
   "metadata": {},
   "outputs": [
    {
     "data": {
      "text/plain": [
       "23128"
      ]
     },
     "execution_count": 17,
     "metadata": {},
     "output_type": "execute_result"
    }
   ],
   "source": [
    "lens = []\n",
    "for i in range(5):\n",
    "    with open(f'sbert_{i}.pickle', 'rb') as f:\n",
    "        output0 = pickle.load(f)\n",
    "    len0 = list(map(len, output0))\n",
    "    lens = lens + len0\n",
    "len(lens)"
   ]
  },
  {
   "cell_type": "code",
   "execution_count": 19,
   "id": "3b40d85b-5905-45e4-9ff6-ee777f7bbd89",
   "metadata": {},
   "outputs": [
    {
     "name": "stderr",
     "output_type": "stream",
     "text": [
      "/tmp/ipykernel_28991/2398763067.py:2: SettingWithCopyWarning: \n",
      "A value is trying to be set on a copy of a slice from a DataFrame.\n",
      "Try using .loc[row_indexer,col_indexer] = value instead\n",
      "\n",
      "See the caveats in the documentation: https://pandas.pydata.org/pandas-docs/stable/user_guide/indexing.html#returning-a-view-versus-a-copy\n",
      "  df_data['lens'] = lens\n"
     ]
    }
   ],
   "source": [
    "df_data = df_data.iloc[:len(lens)]\n",
    "df_data['lens'] = lens"
   ]
  },
  {
   "cell_type": "code",
   "execution_count": 20,
   "id": "968befe3-423d-453b-a736-29c2495ed3a4",
   "metadata": {},
   "outputs": [
    {
     "data": {
      "text/html": [
       "<div>\n",
       "<style scoped>\n",
       "    .dataframe tbody tr th:only-of-type {\n",
       "        vertical-align: middle;\n",
       "    }\n",
       "\n",
       "    .dataframe tbody tr th {\n",
       "        vertical-align: top;\n",
       "    }\n",
       "\n",
       "    .dataframe thead th {\n",
       "        text-align: right;\n",
       "    }\n",
       "</style>\n",
       "<table border=\"1\" class=\"dataframe\">\n",
       "  <thead>\n",
       "    <tr style=\"text-align: right;\">\n",
       "      <th></th>\n",
       "      <th>Исполнитель</th>\n",
       "      <th>Группа тем</th>\n",
       "      <th>Текст инцидента</th>\n",
       "      <th>Тема</th>\n",
       "      <th>lens</th>\n",
       "    </tr>\n",
       "  </thead>\n",
       "  <tbody>\n",
       "    <tr>\n",
       "      <th>0</th>\n",
       "      <td>Лысьвенский городской округ</td>\n",
       "      <td>Благоустройство</td>\n",
       "      <td>'Добрый день. Сегодня, 20.08.22, моя мать шла ...</td>\n",
       "      <td>★ Ямы во дворах</td>\n",
       "      <td>103</td>\n",
       "    </tr>\n",
       "    <tr>\n",
       "      <th>1</th>\n",
       "      <td>Министерство социального развития ПК</td>\n",
       "      <td>Социальное обслуживание и защита</td>\n",
       "      <td>'Пермь г, +79194692145. В Перми с ноября 2021 ...</td>\n",
       "      <td>Оказание гос. соц. помощи</td>\n",
       "      <td>61</td>\n",
       "    </tr>\n",
       "    <tr>\n",
       "      <th>2</th>\n",
       "      <td>Министерство социального развития ПК</td>\n",
       "      <td>Социальное обслуживание и защита</td>\n",
       "      <td>'Добрый день ! Скажите пожалуйста если подовал...</td>\n",
       "      <td>Дети и многодетные семьи</td>\n",
       "      <td>34</td>\n",
       "    </tr>\n",
       "    <tr>\n",
       "      <th>3</th>\n",
       "      <td>Город Пермь</td>\n",
       "      <td>Общественный транспорт</td>\n",
       "      <td>'Каждая из них не о чем. Люди на остановках хо...</td>\n",
       "      <td>Содержание остановок</td>\n",
       "      <td>86</td>\n",
       "    </tr>\n",
       "    <tr>\n",
       "      <th>4</th>\n",
       "      <td>Министерство здравоохранения</td>\n",
       "      <td>Здравоохранение/Медицина</td>\n",
       "      <td>'В Березниках у сына привитого откоронавируса ...</td>\n",
       "      <td>Технические проблемы с записью на прием к врачу</td>\n",
       "      <td>65</td>\n",
       "    </tr>\n",
       "    <tr>\n",
       "      <th>...</th>\n",
       "      <td>...</td>\n",
       "      <td>...</td>\n",
       "      <td>...</td>\n",
       "      <td>...</td>\n",
       "      <td>...</td>\n",
       "    </tr>\n",
       "    <tr>\n",
       "      <th>23123</th>\n",
       "      <td>Губахинский городской округ</td>\n",
       "      <td>ЖКХ</td>\n",
       "      <td>'Город Гремячинск-— ситуация с теплом на улице...</td>\n",
       "      <td>Ненадлежащее качество или отсутствие отопления</td>\n",
       "      <td>30</td>\n",
       "    </tr>\n",
       "    <tr>\n",
       "      <th>23124</th>\n",
       "      <td>Министерство здравоохранения</td>\n",
       "      <td>Здравоохранение/Медицина</td>\n",
       "      <td>'Здравствуйте у меня ребёнку 2 месяца , тест н...</td>\n",
       "      <td>Технические проблемы с записью на прием к врачу</td>\n",
       "      <td>36</td>\n",
       "    </tr>\n",
       "    <tr>\n",
       "      <th>23125</th>\n",
       "      <td>Лысьвенский городской округ</td>\n",
       "      <td>Благоустройство</td>\n",
       "      <td>'А что творится с благоустройством дворов! Воо...</td>\n",
       "      <td>Благоустройство придомовых территорий</td>\n",
       "      <td>77</td>\n",
       "    </tr>\n",
       "    <tr>\n",
       "      <th>23126</th>\n",
       "      <td>Лысьвенский городской округ</td>\n",
       "      <td>ЖКХ</td>\n",
       "      <td>'Сообщение без текста</td>\n",
       "      <td>Ненадлежащее качество или отсутствие отопления</td>\n",
       "      <td>6</td>\n",
       "    </tr>\n",
       "    <tr>\n",
       "      <th>23127</th>\n",
       "      <td>Министерство социального развития ПК</td>\n",
       "      <td>Социальное обслуживание и защита</td>\n",
       "      <td>'Здравствуйте, подскажите пожалуйста. Сколько ...</td>\n",
       "      <td>Оказание гос. соц. помощи</td>\n",
       "      <td>34</td>\n",
       "    </tr>\n",
       "  </tbody>\n",
       "</table>\n",
       "<p>23128 rows × 5 columns</p>\n",
       "</div>"
      ],
      "text/plain": [
       "                                Исполнитель                        Группа тем  \\\n",
       "0               Лысьвенский городской округ                   Благоустройство   \n",
       "1      Министерство социального развития ПК  Социальное обслуживание и защита   \n",
       "2      Министерство социального развития ПК  Социальное обслуживание и защита   \n",
       "3                               Город Пермь            Общественный транспорт   \n",
       "4              Министерство здравоохранения          Здравоохранение/Медицина   \n",
       "...                                     ...                               ...   \n",
       "23123           Губахинский городской округ                               ЖКХ   \n",
       "23124          Министерство здравоохранения          Здравоохранение/Медицина   \n",
       "23125           Лысьвенский городской округ                   Благоустройство   \n",
       "23126           Лысьвенский городской округ                               ЖКХ   \n",
       "23127  Министерство социального развития ПК  Социальное обслуживание и защита   \n",
       "\n",
       "                                         Текст инцидента  \\\n",
       "0      'Добрый день. Сегодня, 20.08.22, моя мать шла ...   \n",
       "1      'Пермь г, +79194692145. В Перми с ноября 2021 ...   \n",
       "2      'Добрый день ! Скажите пожалуйста если подовал...   \n",
       "3      'Каждая из них не о чем. Люди на остановках хо...   \n",
       "4      'В Березниках у сына привитого откоронавируса ...   \n",
       "...                                                  ...   \n",
       "23123  'Город Гремячинск-— ситуация с теплом на улице...   \n",
       "23124  'Здравствуйте у меня ребёнку 2 месяца , тест н...   \n",
       "23125  'А что творится с благоустройством дворов! Воо...   \n",
       "23126                              'Сообщение без текста   \n",
       "23127  'Здравствуйте, подскажите пожалуйста. Сколько ...   \n",
       "\n",
       "                                                  Тема  lens  \n",
       "0                                      ★ Ямы во дворах   103  \n",
       "1                            Оказание гос. соц. помощи    61  \n",
       "2                             Дети и многодетные семьи    34  \n",
       "3                                 Содержание остановок    86  \n",
       "4      Технические проблемы с записью на прием к врачу    65  \n",
       "...                                                ...   ...  \n",
       "23123   Ненадлежащее качество или отсутствие отопления    30  \n",
       "23124  Технические проблемы с записью на прием к врачу    36  \n",
       "23125            Благоустройство придомовых территорий    77  \n",
       "23126   Ненадлежащее качество или отсутствие отопления     6  \n",
       "23127                        Оказание гос. соц. помощи    34  \n",
       "\n",
       "[23128 rows x 5 columns]"
      ]
     },
     "execution_count": 20,
     "metadata": {},
     "output_type": "execute_result"
    }
   ],
   "source": [
    "df_data"
   ]
  },
  {
   "cell_type": "code",
   "execution_count": 21,
   "id": "1ed7efc1-b94a-4bbb-be37-32a4479b0955",
   "metadata": {},
   "outputs": [
    {
     "name": "stderr",
     "output_type": "stream",
     "text": [
      "/tmp/ipykernel_28991/372938268.py:4: SettingWithCopyWarning: \n",
      "A value is trying to be set on a copy of a slice from a DataFrame.\n",
      "Try using .loc[row_indexer,col_indexer] = value instead\n",
      "\n",
      "See the caveats in the documentation: https://pandas.pydata.org/pandas-docs/stable/user_guide/indexing.html#returning-a-view-versus-a-copy\n",
      "  df_data['len_sum'] = len_sum\n"
     ]
    },
    {
     "data": {
      "text/html": [
       "<div>\n",
       "<style scoped>\n",
       "    .dataframe tbody tr th:only-of-type {\n",
       "        vertical-align: middle;\n",
       "    }\n",
       "\n",
       "    .dataframe tbody tr th {\n",
       "        vertical-align: top;\n",
       "    }\n",
       "\n",
       "    .dataframe thead th {\n",
       "        text-align: right;\n",
       "    }\n",
       "</style>\n",
       "<table border=\"1\" class=\"dataframe\">\n",
       "  <thead>\n",
       "    <tr style=\"text-align: right;\">\n",
       "      <th></th>\n",
       "      <th>Исполнитель</th>\n",
       "      <th>Группа тем</th>\n",
       "      <th>Текст инцидента</th>\n",
       "      <th>Тема</th>\n",
       "      <th>lens</th>\n",
       "      <th>len_sum</th>\n",
       "    </tr>\n",
       "  </thead>\n",
       "  <tbody>\n",
       "    <tr>\n",
       "      <th>0</th>\n",
       "      <td>Лысьвенский городской округ</td>\n",
       "      <td>Благоустройство</td>\n",
       "      <td>'Добрый день. Сегодня, 20.08.22, моя мать шла ...</td>\n",
       "      <td>★ Ямы во дворах</td>\n",
       "      <td>103</td>\n",
       "      <td>103.0</td>\n",
       "    </tr>\n",
       "    <tr>\n",
       "      <th>1</th>\n",
       "      <td>Министерство социального развития ПК</td>\n",
       "      <td>Социальное обслуживание и защита</td>\n",
       "      <td>'Пермь г, +79194692145. В Перми с ноября 2021 ...</td>\n",
       "      <td>Оказание гос. соц. помощи</td>\n",
       "      <td>61</td>\n",
       "      <td>164.0</td>\n",
       "    </tr>\n",
       "    <tr>\n",
       "      <th>2</th>\n",
       "      <td>Министерство социального развития ПК</td>\n",
       "      <td>Социальное обслуживание и защита</td>\n",
       "      <td>'Добрый день ! Скажите пожалуйста если подовал...</td>\n",
       "      <td>Дети и многодетные семьи</td>\n",
       "      <td>34</td>\n",
       "      <td>198.0</td>\n",
       "    </tr>\n",
       "    <tr>\n",
       "      <th>3</th>\n",
       "      <td>Город Пермь</td>\n",
       "      <td>Общественный транспорт</td>\n",
       "      <td>'Каждая из них не о чем. Люди на остановках хо...</td>\n",
       "      <td>Содержание остановок</td>\n",
       "      <td>86</td>\n",
       "      <td>284.0</td>\n",
       "    </tr>\n",
       "    <tr>\n",
       "      <th>4</th>\n",
       "      <td>Министерство здравоохранения</td>\n",
       "      <td>Здравоохранение/Медицина</td>\n",
       "      <td>'В Березниках у сына привитого откоронавируса ...</td>\n",
       "      <td>Технические проблемы с записью на прием к врачу</td>\n",
       "      <td>65</td>\n",
       "      <td>349.0</td>\n",
       "    </tr>\n",
       "    <tr>\n",
       "      <th>...</th>\n",
       "      <td>...</td>\n",
       "      <td>...</td>\n",
       "      <td>...</td>\n",
       "      <td>...</td>\n",
       "      <td>...</td>\n",
       "      <td>...</td>\n",
       "    </tr>\n",
       "    <tr>\n",
       "      <th>23123</th>\n",
       "      <td>Губахинский городской округ</td>\n",
       "      <td>ЖКХ</td>\n",
       "      <td>'Город Гремячинск-— ситуация с теплом на улице...</td>\n",
       "      <td>Ненадлежащее качество или отсутствие отопления</td>\n",
       "      <td>30</td>\n",
       "      <td>1271328.0</td>\n",
       "    </tr>\n",
       "    <tr>\n",
       "      <th>23124</th>\n",
       "      <td>Министерство здравоохранения</td>\n",
       "      <td>Здравоохранение/Медицина</td>\n",
       "      <td>'Здравствуйте у меня ребёнку 2 месяца , тест н...</td>\n",
       "      <td>Технические проблемы с записью на прием к врачу</td>\n",
       "      <td>36</td>\n",
       "      <td>1271364.0</td>\n",
       "    </tr>\n",
       "    <tr>\n",
       "      <th>23125</th>\n",
       "      <td>Лысьвенский городской округ</td>\n",
       "      <td>Благоустройство</td>\n",
       "      <td>'А что творится с благоустройством дворов! Воо...</td>\n",
       "      <td>Благоустройство придомовых территорий</td>\n",
       "      <td>77</td>\n",
       "      <td>1271441.0</td>\n",
       "    </tr>\n",
       "    <tr>\n",
       "      <th>23126</th>\n",
       "      <td>Лысьвенский городской округ</td>\n",
       "      <td>ЖКХ</td>\n",
       "      <td>'Сообщение без текста</td>\n",
       "      <td>Ненадлежащее качество или отсутствие отопления</td>\n",
       "      <td>6</td>\n",
       "      <td>NaN</td>\n",
       "    </tr>\n",
       "    <tr>\n",
       "      <th>23127</th>\n",
       "      <td>Министерство социального развития ПК</td>\n",
       "      <td>Социальное обслуживание и защита</td>\n",
       "      <td>'Здравствуйте, подскажите пожалуйста. Сколько ...</td>\n",
       "      <td>Оказание гос. соц. помощи</td>\n",
       "      <td>34</td>\n",
       "      <td>1271475.0</td>\n",
       "    </tr>\n",
       "  </tbody>\n",
       "</table>\n",
       "<p>23128 rows × 6 columns</p>\n",
       "</div>"
      ],
      "text/plain": [
       "                                Исполнитель                        Группа тем  \\\n",
       "0               Лысьвенский городской округ                   Благоустройство   \n",
       "1      Министерство социального развития ПК  Социальное обслуживание и защита   \n",
       "2      Министерство социального развития ПК  Социальное обслуживание и защита   \n",
       "3                               Город Пермь            Общественный транспорт   \n",
       "4              Министерство здравоохранения          Здравоохранение/Медицина   \n",
       "...                                     ...                               ...   \n",
       "23123           Губахинский городской округ                               ЖКХ   \n",
       "23124          Министерство здравоохранения          Здравоохранение/Медицина   \n",
       "23125           Лысьвенский городской округ                   Благоустройство   \n",
       "23126           Лысьвенский городской округ                               ЖКХ   \n",
       "23127  Министерство социального развития ПК  Социальное обслуживание и защита   \n",
       "\n",
       "                                         Текст инцидента  \\\n",
       "0      'Добрый день. Сегодня, 20.08.22, моя мать шла ...   \n",
       "1      'Пермь г, +79194692145. В Перми с ноября 2021 ...   \n",
       "2      'Добрый день ! Скажите пожалуйста если подовал...   \n",
       "3      'Каждая из них не о чем. Люди на остановках хо...   \n",
       "4      'В Березниках у сына привитого откоронавируса ...   \n",
       "...                                                  ...   \n",
       "23123  'Город Гремячинск-— ситуация с теплом на улице...   \n",
       "23124  'Здравствуйте у меня ребёнку 2 месяца , тест н...   \n",
       "23125  'А что творится с благоустройством дворов! Воо...   \n",
       "23126                              'Сообщение без текста   \n",
       "23127  'Здравствуйте, подскажите пожалуйста. Сколько ...   \n",
       "\n",
       "                                                  Тема  lens    len_sum  \n",
       "0                                      ★ Ямы во дворах   103      103.0  \n",
       "1                            Оказание гос. соц. помощи    61      164.0  \n",
       "2                             Дети и многодетные семьи    34      198.0  \n",
       "3                                 Содержание остановок    86      284.0  \n",
       "4      Технические проблемы с записью на прием к врачу    65      349.0  \n",
       "...                                                ...   ...        ...  \n",
       "23123   Ненадлежащее качество или отсутствие отопления    30  1271328.0  \n",
       "23124  Технические проблемы с записью на прием к врачу    36  1271364.0  \n",
       "23125            Благоустройство придомовых территорий    77  1271441.0  \n",
       "23126   Ненадлежащее качество или отсутствие отопления     6        NaN  \n",
       "23127                        Оказание гос. соц. помощи    34  1271475.0  \n",
       "\n",
       "[23128 rows x 6 columns]"
      ]
     },
     "execution_count": 21,
     "metadata": {},
     "output_type": "execute_result"
    }
   ],
   "source": [
    "min_len = 17\n",
    "max_len = 400\n",
    "len_sum = df_data[(df_data.lens >= min_len)&(df_data.lens <= max_len)].lens.cumsum()\n",
    "df_data['len_sum'] = len_sum\n",
    "df_data"
   ]
  },
  {
   "cell_type": "code",
   "execution_count": 22,
   "id": "f95f0b61-bf42-474b-b0c8-186402bf3e16",
   "metadata": {},
   "outputs": [
    {
     "data": {
      "text/plain": [
       "Дети и многодетные семьи                                                                                           1817\n",
       "Оказание гос. соц. помощи                                                                                          1658\n",
       "★ Нарушение правил очистки дорог от снега и наледи/Обращения о необходимости очистить тротуар от снега и наледи    1110\n",
       "Технические проблемы с записью на прием к врачу                                                                     856\n",
       "★ Оказание медицинской помощи не в полном объеме/отказ в оказании медицинской помощи                                830\n",
       "                                                                                                                   ... \n",
       "Обработка и уничтожение грызунов (дератизация)                                                                        6\n",
       "★ Повреждение опор ЛЭП                                                                                                6\n",
       "Нарушение технологии и (или) сроков производства работ                                                                6\n",
       "Отсутствие аптек                                                                                                      6\n",
       "Выбросы вредных веществ в атмосферу/загрязнение воздуха                                                               5\n",
       "Name: Тема, Length: 195, dtype: int64"
      ]
     },
     "execution_count": 22,
     "metadata": {},
     "output_type": "execute_result"
    }
   ],
   "source": [
    "df_data[df_data.len_sum.notna()]['Тема'].value_counts()"
   ]
  },
  {
   "cell_type": "code",
   "execution_count": 23,
   "id": "bbb6805f-5757-4ccc-acab-4dd9bc79a5e8",
   "metadata": {},
   "outputs": [
    {
     "data": {
      "text/plain": [
       "Дети и многодетные семьи                                                                                           2008\n",
       "Оказание гос. соц. помощи                                                                                          1886\n",
       "★ Нарушение правил очистки дорог от снега и наледи/Обращения о необходимости очистить тротуар от снега и наледи    1269\n",
       "Технические проблемы с записью на прием к врачу                                                                     941\n",
       "★ Оказание медицинской помощи не в полном объеме/отказ в оказании медицинской помощи                                885\n",
       "                                                                                                                   ... \n",
       "Выбросы вредных веществ в атмосферу/загрязнение воздуха                                                               8\n",
       "Обработка и уничтожение грызунов (дератизация)                                                                        8\n",
       "Установка ограждений, препятствующих въезду на тротуар, газон на дворовой территории МКД                              8\n",
       "Общее впечатление                                                                                                     7\n",
       "Нарушение технологии и (или) сроков производства работ                                                                7\n",
       "Name: Тема, Length: 195, dtype: int64"
      ]
     },
     "execution_count": 23,
     "metadata": {},
     "output_type": "execute_result"
    }
   ],
   "source": [
    "# две темы выпали, надо вернуть - ничего не выпало\n",
    "# хотя сначала надо сделать словарь тема - номер и проставить номера тем в датасете\n",
    "s_themes"
   ]
  },
  {
   "cell_type": "code",
   "execution_count": 24,
   "id": "02fa10b9-f402-4fcc-80bf-94c09cd2e0e5",
   "metadata": {},
   "outputs": [
    {
     "data": {
      "text/plain": [
       "0                                        ★ Ямы во дворах\n",
       "1                              Оказание гос. соц. помощи\n",
       "2                               Дети и многодетные семьи\n",
       "3                                   Содержание остановок\n",
       "4        Технические проблемы с записью на прием к врачу\n",
       "                             ...                        \n",
       "190    Неисправность выступающих конструкций: балконо...\n",
       "191                              Соц.обслуживание прочее\n",
       "192                                     Устройство в ДОУ\n",
       "193                                ★ Парковка на газонах\n",
       "194                           Матери-одиночки, подростки\n",
       "Length: 195, dtype: object"
      ]
     },
     "execution_count": 24,
     "metadata": {},
     "output_type": "execute_result"
    }
   ],
   "source": [
    "theme_dict = pd.Series(df_data['Тема'].unique())\n",
    "theme_dict"
   ]
  },
  {
   "cell_type": "code",
   "execution_count": 25,
   "id": "7bd3fefa-dac0-4691-99dd-2fb566ba15ab",
   "metadata": {},
   "outputs": [
    {
     "name": "stderr",
     "output_type": "stream",
     "text": [
      "/tmp/ipykernel_28991/775313707.py:4: SettingWithCopyWarning: \n",
      "A value is trying to be set on a copy of a slice from a DataFrame.\n",
      "Try using .loc[row_indexer,col_indexer] = value instead\n",
      "\n",
      "See the caveats in the documentation: https://pandas.pydata.org/pandas-docs/stable/user_guide/indexing.html#returning-a-view-versus-a-copy\n",
      "  df_data['theme'] = df_data['Тема'].apply(themetovalue)\n"
     ]
    }
   ],
   "source": [
    "def themetovalue(theme):\n",
    "    return theme_dict[theme_dict==theme].index[0]\n",
    "\n",
    "df_data['theme'] = df_data['Тема'].apply(themetovalue)"
   ]
  },
  {
   "cell_type": "code",
   "execution_count": 26,
   "id": "c7952344-6946-4bd2-b42d-be66c9f9afcc",
   "metadata": {},
   "outputs": [
    {
     "name": "stderr",
     "output_type": "stream",
     "text": [
      "/tmp/ipykernel_28991/4090774118.py:9: SettingWithCopyWarning: \n",
      "A value is trying to be set on a copy of a slice from a DataFrame.\n",
      "Try using .loc[row_indexer,col_indexer] = value instead\n",
      "\n",
      "See the caveats in the documentation: https://pandas.pydata.org/pandas-docs/stable/user_guide/indexing.html#returning-a-view-versus-a-copy\n",
      "  df_data['group'] = df_data['Группа тем'].apply(grouptovalue)\n",
      "/tmp/ipykernel_28991/4090774118.py:10: SettingWithCopyWarning: \n",
      "A value is trying to be set on a copy of a slice from a DataFrame.\n",
      "Try using .loc[row_indexer,col_indexer] = value instead\n",
      "\n",
      "See the caveats in the documentation: https://pandas.pydata.org/pandas-docs/stable/user_guide/indexing.html#returning-a-view-versus-a-copy\n",
      "  df_data['contractor'] = df_data['Исполнитель'].apply(contractortovalue)\n"
     ]
    }
   ],
   "source": [
    "group_dict = pd.Series(df_data['Группа тем'].unique())\n",
    "def grouptovalue(group):\n",
    "    return group_dict[group_dict==group].index[0]\n",
    "\n",
    "contractor_dict = pd.Series(df_data['Исполнитель'].unique())\n",
    "def contractortovalue(contractor):\n",
    "    return contractor_dict[contractor_dict==contractor].index[0]\n",
    "\n",
    "df_data['group'] = df_data['Группа тем'].apply(grouptovalue)\n",
    "df_data['contractor'] = df_data['Исполнитель'].apply(contractortovalue)"
   ]
  },
  {
   "cell_type": "code",
   "execution_count": 27,
   "id": "1f8aaf0e-aafa-4294-b950-9601ac073fe2",
   "metadata": {},
   "outputs": [
    {
     "data": {
      "text/html": [
       "<div>\n",
       "<style scoped>\n",
       "    .dataframe tbody tr th:only-of-type {\n",
       "        vertical-align: middle;\n",
       "    }\n",
       "\n",
       "    .dataframe tbody tr th {\n",
       "        vertical-align: top;\n",
       "    }\n",
       "\n",
       "    .dataframe thead th {\n",
       "        text-align: right;\n",
       "    }\n",
       "</style>\n",
       "<table border=\"1\" class=\"dataframe\">\n",
       "  <thead>\n",
       "    <tr style=\"text-align: right;\">\n",
       "      <th></th>\n",
       "      <th>Исполнитель</th>\n",
       "      <th>Группа тем</th>\n",
       "      <th>Текст инцидента</th>\n",
       "      <th>Тема</th>\n",
       "      <th>lens</th>\n",
       "      <th>len_sum</th>\n",
       "      <th>theme</th>\n",
       "      <th>group</th>\n",
       "      <th>contractor</th>\n",
       "    </tr>\n",
       "  </thead>\n",
       "  <tbody>\n",
       "    <tr>\n",
       "      <th>0</th>\n",
       "      <td>Лысьвенский городской округ</td>\n",
       "      <td>Благоустройство</td>\n",
       "      <td>'Добрый день. Сегодня, 20.08.22, моя мать шла ...</td>\n",
       "      <td>★ Ямы во дворах</td>\n",
       "      <td>103</td>\n",
       "      <td>103.0</td>\n",
       "      <td>0</td>\n",
       "      <td>0</td>\n",
       "      <td>0</td>\n",
       "    </tr>\n",
       "    <tr>\n",
       "      <th>1</th>\n",
       "      <td>Министерство социального развития ПК</td>\n",
       "      <td>Социальное обслуживание и защита</td>\n",
       "      <td>'Пермь г, +79194692145. В Перми с ноября 2021 ...</td>\n",
       "      <td>Оказание гос. соц. помощи</td>\n",
       "      <td>61</td>\n",
       "      <td>164.0</td>\n",
       "      <td>1</td>\n",
       "      <td>1</td>\n",
       "      <td>1</td>\n",
       "    </tr>\n",
       "    <tr>\n",
       "      <th>2</th>\n",
       "      <td>Министерство социального развития ПК</td>\n",
       "      <td>Социальное обслуживание и защита</td>\n",
       "      <td>'Добрый день ! Скажите пожалуйста если подовал...</td>\n",
       "      <td>Дети и многодетные семьи</td>\n",
       "      <td>34</td>\n",
       "      <td>198.0</td>\n",
       "      <td>2</td>\n",
       "      <td>1</td>\n",
       "      <td>1</td>\n",
       "    </tr>\n",
       "    <tr>\n",
       "      <th>3</th>\n",
       "      <td>Город Пермь</td>\n",
       "      <td>Общественный транспорт</td>\n",
       "      <td>'Каждая из них не о чем. Люди на остановках хо...</td>\n",
       "      <td>Содержание остановок</td>\n",
       "      <td>86</td>\n",
       "      <td>284.0</td>\n",
       "      <td>3</td>\n",
       "      <td>2</td>\n",
       "      <td>2</td>\n",
       "    </tr>\n",
       "    <tr>\n",
       "      <th>4</th>\n",
       "      <td>Министерство здравоохранения</td>\n",
       "      <td>Здравоохранение/Медицина</td>\n",
       "      <td>'В Березниках у сына привитого откоронавируса ...</td>\n",
       "      <td>Технические проблемы с записью на прием к врачу</td>\n",
       "      <td>65</td>\n",
       "      <td>349.0</td>\n",
       "      <td>4</td>\n",
       "      <td>3</td>\n",
       "      <td>3</td>\n",
       "    </tr>\n",
       "    <tr>\n",
       "      <th>...</th>\n",
       "      <td>...</td>\n",
       "      <td>...</td>\n",
       "      <td>...</td>\n",
       "      <td>...</td>\n",
       "      <td>...</td>\n",
       "      <td>...</td>\n",
       "      <td>...</td>\n",
       "      <td>...</td>\n",
       "      <td>...</td>\n",
       "    </tr>\n",
       "    <tr>\n",
       "      <th>23123</th>\n",
       "      <td>Губахинский городской округ</td>\n",
       "      <td>ЖКХ</td>\n",
       "      <td>'Город Гремячинск-— ситуация с теплом на улице...</td>\n",
       "      <td>Ненадлежащее качество или отсутствие отопления</td>\n",
       "      <td>30</td>\n",
       "      <td>1271328.0</td>\n",
       "      <td>44</td>\n",
       "      <td>7</td>\n",
       "      <td>9</td>\n",
       "    </tr>\n",
       "    <tr>\n",
       "      <th>23124</th>\n",
       "      <td>Министерство здравоохранения</td>\n",
       "      <td>Здравоохранение/Медицина</td>\n",
       "      <td>'Здравствуйте у меня ребёнку 2 месяца , тест н...</td>\n",
       "      <td>Технические проблемы с записью на прием к врачу</td>\n",
       "      <td>36</td>\n",
       "      <td>1271364.0</td>\n",
       "      <td>4</td>\n",
       "      <td>3</td>\n",
       "      <td>3</td>\n",
       "    </tr>\n",
       "    <tr>\n",
       "      <th>23125</th>\n",
       "      <td>Лысьвенский городской округ</td>\n",
       "      <td>Благоустройство</td>\n",
       "      <td>'А что творится с благоустройством дворов! Воо...</td>\n",
       "      <td>Благоустройство придомовых территорий</td>\n",
       "      <td>77</td>\n",
       "      <td>1271441.0</td>\n",
       "      <td>122</td>\n",
       "      <td>0</td>\n",
       "      <td>0</td>\n",
       "    </tr>\n",
       "    <tr>\n",
       "      <th>23126</th>\n",
       "      <td>Лысьвенский городской округ</td>\n",
       "      <td>ЖКХ</td>\n",
       "      <td>'Сообщение без текста</td>\n",
       "      <td>Ненадлежащее качество или отсутствие отопления</td>\n",
       "      <td>6</td>\n",
       "      <td>NaN</td>\n",
       "      <td>44</td>\n",
       "      <td>7</td>\n",
       "      <td>0</td>\n",
       "    </tr>\n",
       "    <tr>\n",
       "      <th>23127</th>\n",
       "      <td>Министерство социального развития ПК</td>\n",
       "      <td>Социальное обслуживание и защита</td>\n",
       "      <td>'Здравствуйте, подскажите пожалуйста. Сколько ...</td>\n",
       "      <td>Оказание гос. соц. помощи</td>\n",
       "      <td>34</td>\n",
       "      <td>1271475.0</td>\n",
       "      <td>1</td>\n",
       "      <td>1</td>\n",
       "      <td>1</td>\n",
       "    </tr>\n",
       "  </tbody>\n",
       "</table>\n",
       "<p>23128 rows × 9 columns</p>\n",
       "</div>"
      ],
      "text/plain": [
       "                                Исполнитель                        Группа тем  \\\n",
       "0               Лысьвенский городской округ                   Благоустройство   \n",
       "1      Министерство социального развития ПК  Социальное обслуживание и защита   \n",
       "2      Министерство социального развития ПК  Социальное обслуживание и защита   \n",
       "3                               Город Пермь            Общественный транспорт   \n",
       "4              Министерство здравоохранения          Здравоохранение/Медицина   \n",
       "...                                     ...                               ...   \n",
       "23123           Губахинский городской округ                               ЖКХ   \n",
       "23124          Министерство здравоохранения          Здравоохранение/Медицина   \n",
       "23125           Лысьвенский городской округ                   Благоустройство   \n",
       "23126           Лысьвенский городской округ                               ЖКХ   \n",
       "23127  Министерство социального развития ПК  Социальное обслуживание и защита   \n",
       "\n",
       "                                         Текст инцидента  \\\n",
       "0      'Добрый день. Сегодня, 20.08.22, моя мать шла ...   \n",
       "1      'Пермь г, +79194692145. В Перми с ноября 2021 ...   \n",
       "2      'Добрый день ! Скажите пожалуйста если подовал...   \n",
       "3      'Каждая из них не о чем. Люди на остановках хо...   \n",
       "4      'В Березниках у сына привитого откоронавируса ...   \n",
       "...                                                  ...   \n",
       "23123  'Город Гремячинск-— ситуация с теплом на улице...   \n",
       "23124  'Здравствуйте у меня ребёнку 2 месяца , тест н...   \n",
       "23125  'А что творится с благоустройством дворов! Воо...   \n",
       "23126                              'Сообщение без текста   \n",
       "23127  'Здравствуйте, подскажите пожалуйста. Сколько ...   \n",
       "\n",
       "                                                  Тема  lens    len_sum  \\\n",
       "0                                      ★ Ямы во дворах   103      103.0   \n",
       "1                            Оказание гос. соц. помощи    61      164.0   \n",
       "2                             Дети и многодетные семьи    34      198.0   \n",
       "3                                 Содержание остановок    86      284.0   \n",
       "4      Технические проблемы с записью на прием к врачу    65      349.0   \n",
       "...                                                ...   ...        ...   \n",
       "23123   Ненадлежащее качество или отсутствие отопления    30  1271328.0   \n",
       "23124  Технические проблемы с записью на прием к врачу    36  1271364.0   \n",
       "23125            Благоустройство придомовых территорий    77  1271441.0   \n",
       "23126   Ненадлежащее качество или отсутствие отопления     6        NaN   \n",
       "23127                        Оказание гос. соц. помощи    34  1271475.0   \n",
       "\n",
       "       theme  group  contractor  \n",
       "0          0      0           0  \n",
       "1          1      1           1  \n",
       "2          2      1           1  \n",
       "3          3      2           2  \n",
       "4          4      3           3  \n",
       "...      ...    ...         ...  \n",
       "23123     44      7           9  \n",
       "23124      4      3           3  \n",
       "23125    122      0           0  \n",
       "23126     44      7           0  \n",
       "23127      1      1           1  \n",
       "\n",
       "[23128 rows x 9 columns]"
      ]
     },
     "execution_count": 27,
     "metadata": {},
     "output_type": "execute_result"
    }
   ],
   "source": [
    "df_data"
   ]
  },
  {
   "cell_type": "code",
   "execution_count": 28,
   "id": "396a35da-1bc2-4723-b687-a86b98d73c2f",
   "metadata": {},
   "outputs": [
    {
     "data": {
      "text/plain": [
       "0      17\n",
       "1       7\n",
       "2       7\n",
       "3       7\n",
       "4       7\n",
       "       ..\n",
       "190     7\n",
       "191     6\n",
       "192     7\n",
       "193     7\n",
       "194     7\n",
       "Name: theme, Length: 195, dtype: int64"
      ]
     },
     "execution_count": 28,
     "metadata": {},
     "output_type": "execute_result"
    }
   ],
   "source": [
    "sapeth = 7    # samples per theme\n",
    "class_qty = len(theme_dict)\n",
    "samples_qty = len(df_data)\n",
    "quantities = np.zeros((class_qty, ))\n",
    "indices = np.zeros((class_qty*sapeth, ), dtype='int32')\n",
    "cur_index = 0\n",
    "for i, row in enumerate(df_data[df_data.len_sum.notna()].iloc):\n",
    "    if quantities[row.theme] < sapeth:\n",
    "        quantities[row.theme] += 1\n",
    "        indices[cur_index] = row.name\n",
    "        cur_index +=1\n",
    "        if row.name > samples_qty:\n",
    "            print(i, row)\n",
    "            break\n",
    "    if cur_index >= class_qty*sapeth:\n",
    "        break\n",
    "res = df_data.theme.loc[indices].value_counts().sort_index()\n",
    "res"
   ]
  },
  {
   "cell_type": "code",
   "execution_count": 29,
   "id": "852242ae-7b7c-4699-bf60-16c99ab797d5",
   "metadata": {},
   "outputs": [
    {
     "data": {
      "text/plain": [
       "87012"
      ]
     },
     "execution_count": 29,
     "metadata": {},
     "output_type": "execute_result"
    }
   ],
   "source": [
    "df_data.loc[indices].lens.sum()"
   ]
  },
  {
   "cell_type": "code",
   "execution_count": 30,
   "id": "9a7050d7-5a4a-45af-88f6-2a92df2705ab",
   "metadata": {},
   "outputs": [
    {
     "name": "stderr",
     "output_type": "stream",
     "text": [
      "/tmp/ipykernel_28991/1693636473.py:1: SettingWithCopyWarning: \n",
      "A value is trying to be set on a copy of a slice from a DataFrame\n",
      "\n",
      "See the caveats in the documentation: https://pandas.pydata.org/pandas-docs/stable/user_guide/indexing.html#returning-a-view-versus-a-copy\n",
      "  df_data.fillna(0, inplace=True)\n"
     ]
    }
   ],
   "source": [
    "df_data.fillna(0, inplace=True)\n",
    "\n",
    "with open('indices.pickle', 'wb') as f:\n",
    "    pickle.dump(indices, f)\n",
    "\n",
    "df_data.to_csv('data.csv')"
   ]
  },
  {
   "cell_type": "markdown",
   "id": "51d6481a-d920-4d3c-bb6f-0ba71600ac36",
   "metadata": {},
   "source": [
    "___"
   ]
  },
  {
   "cell_type": "code",
   "execution_count": 1,
   "id": "926f6390-8a37-445d-b14b-303a2ca63318",
   "metadata": {},
   "outputs": [],
   "source": [
    "import numpy as np\n",
    "import pandas as pd\n",
    "from sklearn import cluster\n",
    "import pickle"
   ]
  },
  {
   "cell_type": "code",
   "execution_count": 2,
   "id": "2b28edf9-e0ff-4973-833e-82580d51da60",
   "metadata": {},
   "outputs": [],
   "source": [
    "# df_data = pd.read_csv('data.csv')\n",
    "with open('indices.pickle', 'rb') as f:\n",
    "    indices = pickle.load(f)"
   ]
  },
  {
   "cell_type": "code",
   "execution_count": 3,
   "id": "4a79f23a-8ce4-473e-8476-04c09c88eacf",
   "metadata": {},
   "outputs": [],
   "source": [
    "outputs = []\n",
    "for i in range(5):\n",
    "    with open(f'sbert_{i}.pickle', 'rb') as f:\n",
    "        outputs += pickle.load(f)"
   ]
  },
  {
   "cell_type": "code",
   "execution_count": 4,
   "id": "e46d018c-1ad9-497a-b250-ec53cbb36f50",
   "metadata": {},
   "outputs": [
    {
     "data": {
      "text/plain": [
       "(87012, 1024)"
      ]
     },
     "execution_count": 4,
     "metadata": {},
     "output_type": "execute_result"
    }
   ],
   "source": [
    "new_outputs = []\n",
    "for index in indices:\n",
    "    new_outputs.append(outputs[index])\n",
    "\n",
    "new_outputs = np.concatenate(new_outputs)\n",
    "new_outputs.shape"
   ]
  },
  {
   "cell_type": "code",
   "execution_count": 5,
   "id": "b86617c8-707b-4a6e-a6af-648da0fab336",
   "metadata": {},
   "outputs": [],
   "source": [
    "del outputs"
   ]
  },
  {
   "cell_type": "code",
   "execution_count": 6,
   "id": "7a8fac5d-3263-412e-a285-8e99a9590074",
   "metadata": {},
   "outputs": [
    {
     "name": "stdout",
     "output_type": "stream",
     "text": [
      "24.11.2023 15:34:47\n",
      "\n",
      "Готово 24.11.2023 15:36:59\n",
      "0 days 00:02:12.964754\n",
      "7909832.0\n"
     ]
    }
   ],
   "source": [
    "start_time = pd.Timestamp.now()\n",
    "print(start_time.strftime('%d.%m.%Y %X'))\n",
    "print()\n",
    "n_clusters = 195*3\n",
    "kmeans = cluster.MiniBatchKMeans(n_clusters=n_clusters, random_state=0,\n",
    "                                 n_init=\"auto\", batch_size=n_clusters*10,\n",
    "                                 max_iter=5000,\n",
    "                                )\n",
    "kmeans.fit(new_outputs)\n",
    "stop_time = pd.Timestamp.now()\n",
    "print('Готово', stop_time.strftime('%d.%m.%Y %X'))\n",
    "print(stop_time-start_time)\n",
    "print(kmeans.inertia_)"
   ]
  },
  {
   "cell_type": "code",
   "execution_count": 7,
   "id": "c0497d97-00a2-4926-9a38-0d0aa0228f88",
   "metadata": {},
   "outputs": [
    {
     "data": {
      "text/plain": [
       "4"
      ]
     },
     "execution_count": 7,
     "metadata": {},
     "output_type": "execute_result"
    }
   ],
   "source": [
    "kmeans.n_iter_"
   ]
  },
  {
   "cell_type": "code",
   "execution_count": 8,
   "id": "2a27f586-c865-4ae5-a058-ad7ac711aa3a",
   "metadata": {},
   "outputs": [],
   "source": [
    "with open('kmeans.pickle', 'wb') as f:\n",
    "    pickle.dump(kmeans, f)"
   ]
  },
  {
   "cell_type": "markdown",
   "id": "db7bccb6-8227-4e2e-b11a-16959ecc530a",
   "metadata": {},
   "source": [
    "___"
   ]
  },
  {
   "cell_type": "markdown",
   "id": "b9601cbc-9b07-47f9-865d-d30e9695b458",
   "metadata": {},
   "source": [
    "1. загружаем\n",
    "2. делаем массив ответов\n",
    "3. по сэмплам - считаем кластеры, делим на длину эмбеддинга\n",
    "4. тренируем кэтбуст"
   ]
  },
  {
   "cell_type": "code",
   "execution_count": 1,
   "id": "4bc67519-93db-4bbe-8fe8-d03719532b1c",
   "metadata": {},
   "outputs": [],
   "source": [
    "import numpy as np\n",
    "import pandas as pd\n",
    "from sklearn import cluster\n",
    "import pickle"
   ]
  },
  {
   "cell_type": "code",
   "execution_count": 2,
   "id": "1dfee03b-8c59-4d32-a241-ac690d8f6ad5",
   "metadata": {},
   "outputs": [
    {
     "data": {
      "text/plain": [
       "23128"
      ]
     },
     "execution_count": 2,
     "metadata": {},
     "output_type": "execute_result"
    }
   ],
   "source": [
    "df_data = pd.read_csv('data.csv')\n",
    "ys = df_data.theme\n",
    "del df_data\n",
    "len(ys)"
   ]
  },
  {
   "cell_type": "code",
   "execution_count": 3,
   "id": "8ddb968a-83b4-4b5a-8e01-038700dbf2fa",
   "metadata": {},
   "outputs": [
    {
     "data": {
      "text/plain": [
       "23128"
      ]
     },
     "execution_count": 3,
     "metadata": {},
     "output_type": "execute_result"
    }
   ],
   "source": [
    "outputs = []\n",
    "for i in range(5):\n",
    "    with open(f'sbert_{i}.pickle', 'rb') as f:\n",
    "        outputs += pickle.load(f)\n",
    "len(outputs)"
   ]
  },
  {
   "cell_type": "code",
   "execution_count": 4,
   "id": "8ff60eb5-3a5b-410a-83ec-4488d2299ce5",
   "metadata": {},
   "outputs": [],
   "source": [
    "class ProgressMonitor():\n",
    "    # def start(start=0, stop, step=10):\n",
    "    def __init__(self, *args):\n",
    "        import pandas as pd\n",
    "        start, stop, step = 0, 100, 10\n",
    "        if len(args) == 3:\n",
    "            start, stop, step = args\n",
    "        elif len(args) == 2:\n",
    "            start, stop = args\n",
    "        elif len(args) == 1:\n",
    "            stop = args[0]\n",
    "            \n",
    "        self.start = start\n",
    "        self.stop = stop\n",
    "        self.step = step\n",
    "        self.qty = stop - start\n",
    "        self.start_time = pd.Timestamp.now()\n",
    "        self.last_percent = 0\n",
    "        self.last_time = self.start_time\n",
    "        print('Начало', self.start_time.strftime('%d.%m.%Y %X'))\n",
    "\n",
    "    def update(self, param):\n",
    "        import pandas as pd\n",
    "        percent = 100*(param - self.start)//self.qty\n",
    "        if percent >= self.last_percent + self.step:\n",
    "            cur_time = pd.Timestamp.now()\n",
    "            print(f'{percent: 3d}% {cur_time.strftime(\"%d.%m.%Y %X\")} {cur_time - self.last_time}')\n",
    "            self.last_percent = percent\n",
    "            self.last_time = cur_time\n",
    "            \n",
    "    def finish(self):\n",
    "        import pandas as pd\n",
    "        cur_time = pd.Timestamp.now()\n",
    "        print('Завершено', cur_time.strftime('%d.%m.%Y %X'))\n",
    "        print('Продолжительность', cur_time - self.start_time)"
   ]
  },
  {
   "cell_type": "code",
   "execution_count": 5,
   "id": "b1bea107-58c9-4607-8c23-bb2e1dd45ba4",
   "metadata": {},
   "outputs": [],
   "source": [
    "with open('kmeans.pickle', 'rb') as f:\n",
    "    kmeans = pickle.load(f)"
   ]
  },
  {
   "cell_type": "code",
   "execution_count": 6,
   "id": "277c9320-9d9e-4232-8010-537bd92d81d6",
   "metadata": {},
   "outputs": [
    {
     "name": "stdout",
     "output_type": "stream",
     "text": [
      "Начало 24.11.2023 16:10:09\n",
      " 10% 24.11.2023 16:11:29 0 days 00:01:20.327880\n",
      " 20% 24.11.2023 16:12:50 0 days 00:01:21.543378\n",
      " 30% 24.11.2023 16:14:10 0 days 00:01:19.076991\n",
      " 40% 24.11.2023 16:15:27 0 days 00:01:17.941935\n",
      " 50% 24.11.2023 16:16:42 0 days 00:01:14.687515\n",
      " 60% 24.11.2023 16:17:56 0 days 00:01:14.092916\n",
      " 70% 24.11.2023 16:19:10 0 days 00:01:14.168944\n",
      " 80% 24.11.2023 16:20:24 0 days 00:01:13.667676\n",
      " 90% 24.11.2023 16:21:34 0 days 00:01:09.965870\n",
      "Завершено 24.11.2023 16:22:45\n",
      "Продолжительность 0 days 00:12:36.524376\n"
     ]
    }
   ],
   "source": [
    "# готовим датасет для классификатора\n",
    "# X у нас будет номера кластеров для всех векторов из эмбеддинга - нет\n",
    "# уменьшим размерность сэмпла - вместо всего списка\n",
    "#    номеров кластеров дадим количество векторов в конкретном кластере\n",
    "# 1. предиктуем сэмпл - получаем список кластеров\n",
    "# 2. считаем количество кластеров, делим на длину сэмпла\n",
    "# придётся каждый массив с кластерами преобразовывать в серию, поскольку длины у них разные\n",
    "sample_qty = len(ys)\n",
    "cluster_qty = 159\n",
    "prog_mon = ProgressMonitor(sample_qty)\n",
    "xs = pd.DataFrame(np.zeros((cluster_qty, sample_qty, )))\n",
    "for i in range(sample_qty):\n",
    "    clusters = kmeans.predict(outputs[i])\n",
    "    xs[i] = pd.Series(clusters).value_counts(normalize=True)\n",
    "    prog_mon.update(i)\n",
    "xs = xs.fillna(0).T\n",
    "prog_mon.finish()"
   ]
  },
  {
   "cell_type": "code",
   "execution_count": 7,
   "id": "89e78686-5e73-4a2f-adc1-8776e94c9eae",
   "metadata": {},
   "outputs": [],
   "source": [
    "del outputs"
   ]
  },
  {
   "cell_type": "code",
   "execution_count": 8,
   "id": "7a5aab49-8c47-4958-8816-27eae222248f",
   "metadata": {},
   "outputs": [],
   "source": [
    "train_qty = int(0.8 * sample_qty)\n",
    "train_xs = xs.iloc[:train_qty]\n",
    "test_xs = xs.iloc[train_qty:]\n",
    "train_ys = ys.iloc[:train_qty]\n",
    "test_ys = ys.iloc[train_qty:]\n",
    "c1 = train_xs[train_ys==0].sum()/len(train_xs[train_ys==0])\n",
    "c2 = test_xs[test_ys==0].sum()/len(test_xs[test_ys==0])\n",
    "df_cmp = pd.DataFrame({'c1': c1, 'c2': c2})"
   ]
  },
  {
   "cell_type": "code",
   "execution_count": 9,
   "id": "d4493cd5-8205-4654-be22-e3ed7291e243",
   "metadata": {},
   "outputs": [
    {
     "data": {
      "text/html": [
       "<div>\n",
       "<style scoped>\n",
       "    .dataframe tbody tr th:only-of-type {\n",
       "        vertical-align: middle;\n",
       "    }\n",
       "\n",
       "    .dataframe tbody tr th {\n",
       "        vertical-align: top;\n",
       "    }\n",
       "\n",
       "    .dataframe thead th {\n",
       "        text-align: right;\n",
       "    }\n",
       "</style>\n",
       "<table border=\"1\" class=\"dataframe\">\n",
       "  <thead>\n",
       "    <tr style=\"text-align: right;\">\n",
       "      <th></th>\n",
       "      <th>c1</th>\n",
       "      <th>c2</th>\n",
       "    </tr>\n",
       "  </thead>\n",
       "  <tbody>\n",
       "    <tr>\n",
       "      <th>16</th>\n",
       "      <td>0.003213</td>\n",
       "      <td>0.005650</td>\n",
       "    </tr>\n",
       "    <tr>\n",
       "      <th>58</th>\n",
       "      <td>0.001058</td>\n",
       "      <td>0.189944</td>\n",
       "    </tr>\n",
       "    <tr>\n",
       "      <th>68</th>\n",
       "      <td>0.015410</td>\n",
       "      <td>0.011628</td>\n",
       "    </tr>\n",
       "    <tr>\n",
       "      <th>71</th>\n",
       "      <td>0.000000</td>\n",
       "      <td>0.003724</td>\n",
       "    </tr>\n",
       "    <tr>\n",
       "      <th>78</th>\n",
       "      <td>0.000000</td>\n",
       "      <td>0.039548</td>\n",
       "    </tr>\n",
       "    <tr>\n",
       "      <th>146</th>\n",
       "      <td>0.028571</td>\n",
       "      <td>0.034884</td>\n",
       "    </tr>\n",
       "  </tbody>\n",
       "</table>\n",
       "</div>"
      ],
      "text/plain": [
       "           c1        c2\n",
       "16   0.003213  0.005650\n",
       "58   0.001058  0.189944\n",
       "68   0.015410  0.011628\n",
       "71   0.000000  0.003724\n",
       "78   0.000000  0.039548\n",
       "146  0.028571  0.034884"
      ]
     },
     "execution_count": 9,
     "metadata": {},
     "output_type": "execute_result"
    }
   ],
   "source": [
    "df_cmp[df_cmp.c2 != 0]"
   ]
  },
  {
   "cell_type": "code",
   "execution_count": 10,
   "id": "a908f7e7-028a-4cd5-9728-79ffb7f2be8e",
   "metadata": {},
   "outputs": [
    {
     "data": {
      "text/html": [
       "<div>\n",
       "<style scoped>\n",
       "    .dataframe tbody tr th:only-of-type {\n",
       "        vertical-align: middle;\n",
       "    }\n",
       "\n",
       "    .dataframe tbody tr th {\n",
       "        vertical-align: top;\n",
       "    }\n",
       "\n",
       "    .dataframe thead th {\n",
       "        text-align: right;\n",
       "    }\n",
       "</style>\n",
       "<table border=\"1\" class=\"dataframe\">\n",
       "  <thead>\n",
       "    <tr style=\"text-align: right;\">\n",
       "      <th></th>\n",
       "      <th>c1</th>\n",
       "      <th>c2</th>\n",
       "    </tr>\n",
       "  </thead>\n",
       "  <tbody>\n",
       "    <tr>\n",
       "      <th>8</th>\n",
       "      <td>0.038026</td>\n",
       "      <td>0.000000</td>\n",
       "    </tr>\n",
       "    <tr>\n",
       "      <th>16</th>\n",
       "      <td>0.003213</td>\n",
       "      <td>0.005650</td>\n",
       "    </tr>\n",
       "    <tr>\n",
       "      <th>31</th>\n",
       "      <td>0.001361</td>\n",
       "      <td>0.000000</td>\n",
       "    </tr>\n",
       "    <tr>\n",
       "      <th>34</th>\n",
       "      <td>0.008032</td>\n",
       "      <td>0.000000</td>\n",
       "    </tr>\n",
       "    <tr>\n",
       "      <th>50</th>\n",
       "      <td>0.119679</td>\n",
       "      <td>0.000000</td>\n",
       "    </tr>\n",
       "    <tr>\n",
       "      <th>58</th>\n",
       "      <td>0.001058</td>\n",
       "      <td>0.189944</td>\n",
       "    </tr>\n",
       "    <tr>\n",
       "      <th>68</th>\n",
       "      <td>0.015410</td>\n",
       "      <td>0.011628</td>\n",
       "    </tr>\n",
       "    <tr>\n",
       "      <th>79</th>\n",
       "      <td>0.066667</td>\n",
       "      <td>0.000000</td>\n",
       "    </tr>\n",
       "    <tr>\n",
       "      <th>104</th>\n",
       "      <td>0.005442</td>\n",
       "      <td>0.000000</td>\n",
       "    </tr>\n",
       "    <tr>\n",
       "      <th>124</th>\n",
       "      <td>0.003333</td>\n",
       "      <td>0.000000</td>\n",
       "    </tr>\n",
       "    <tr>\n",
       "      <th>126</th>\n",
       "      <td>0.076667</td>\n",
       "      <td>0.000000</td>\n",
       "    </tr>\n",
       "    <tr>\n",
       "      <th>146</th>\n",
       "      <td>0.028571</td>\n",
       "      <td>0.034884</td>\n",
       "    </tr>\n",
       "    <tr>\n",
       "      <th>155</th>\n",
       "      <td>0.003279</td>\n",
       "      <td>0.000000</td>\n",
       "    </tr>\n",
       "  </tbody>\n",
       "</table>\n",
       "</div>"
      ],
      "text/plain": [
       "           c1        c2\n",
       "8    0.038026  0.000000\n",
       "16   0.003213  0.005650\n",
       "31   0.001361  0.000000\n",
       "34   0.008032  0.000000\n",
       "50   0.119679  0.000000\n",
       "58   0.001058  0.189944\n",
       "68   0.015410  0.011628\n",
       "79   0.066667  0.000000\n",
       "104  0.005442  0.000000\n",
       "124  0.003333  0.000000\n",
       "126  0.076667  0.000000\n",
       "146  0.028571  0.034884\n",
       "155  0.003279  0.000000"
      ]
     },
     "execution_count": 10,
     "metadata": {},
     "output_type": "execute_result"
    }
   ],
   "source": [
    "df_cmp[df_cmp.c1 != 0]"
   ]
  },
  {
   "cell_type": "code",
   "execution_count": 11,
   "id": "9cc1afe7-990c-49a5-ba51-2fa4c65bdcc2",
   "metadata": {},
   "outputs": [
    {
     "name": "stdout",
     "output_type": "stream",
     "text": [
      "Начали 16:22:53\n",
      "0.19152615650670127\n",
      "Готово, 18:38:10\n"
     ]
    }
   ],
   "source": [
    "from sklearn.model_selection import GridSearchCV, StratifiedKFold, train_test_split\n",
    "from sklearn.metrics import roc_auc_score, f1_score, make_scorer\n",
    "from catboost import CatBoostClassifier\n",
    "from catboost.metrics import MultiClassOneVsAll, F1\n",
    "\n",
    "random_state = 64\n",
    "X_train, X_test, y_train, y_test = train_test_split(xs.to_numpy(), ys.to_numpy(), test_size=0.1,\n",
    "                                                    stratify=ys.to_numpy(), random_state=random_state)\n",
    "cc = CatBoostClassifier(verbose=0, iterations=1000,    #, loss_function=MultiClassOneVsAll\n",
    "                        random_state=random_state, use_best_model=True, depth=8,)    #  eval_metric=\n",
    "print('Начали', pd.Timestamp.now().strftime('%X'))\n",
    "cc.fit(X_train, y_train, eval_set=(X_test, y_test))\n",
    "y_pred = cc.predict(X_test)\n",
    "score = f1_score(y_test, y_pred, average='micro')\n",
    "print(score)\n",
    "\n",
    "print('Готово,', pd.Timestamp.now().strftime(\"%X\"))"
   ]
  },
  {
   "cell_type": "markdown",
   "id": "10e7dd7a-0653-4cb5-a9cf-7724a171548c",
   "metadata": {},
   "source": [
    "Вот это облом.\n",
    "Можно, конечно, попробовать другие модели, но даже если и будет лучше, то не радикально."
   ]
  },
  {
   "cell_type": "code",
   "execution_count": 13,
   "id": "5408a789-2bc3-4f9c-900a-6e4e6c224c79",
   "metadata": {},
   "outputs": [],
   "source": [
    "with open('catboost.pickle', 'wb') as f:\n",
    "    pickle.dump(cc, f)"
   ]
  },
  {
   "cell_type": "code",
   "execution_count": 22,
   "id": "7dd95a64-10e6-40a3-a11b-a2b1f94645ed",
   "metadata": {},
   "outputs": [
    {
     "data": {
      "text/html": [
       "<div>\n",
       "<style scoped>\n",
       "    .dataframe tbody tr th:only-of-type {\n",
       "        vertical-align: middle;\n",
       "    }\n",
       "\n",
       "    .dataframe tbody tr th {\n",
       "        vertical-align: top;\n",
       "    }\n",
       "\n",
       "    .dataframe thead th {\n",
       "        text-align: right;\n",
       "    }\n",
       "</style>\n",
       "<table border=\"1\" class=\"dataframe\">\n",
       "  <thead>\n",
       "    <tr style=\"text-align: right;\">\n",
       "      <th></th>\n",
       "      <th>theme</th>\n",
       "      <th>group</th>\n",
       "      <th>qty</th>\n",
       "    </tr>\n",
       "  </thead>\n",
       "  <tbody>\n",
       "    <tr>\n",
       "      <th>0</th>\n",
       "      <td>0</td>\n",
       "      <td>0</td>\n",
       "      <td>18</td>\n",
       "    </tr>\n",
       "    <tr>\n",
       "      <th>1</th>\n",
       "      <td>1</td>\n",
       "      <td>1</td>\n",
       "      <td>1886</td>\n",
       "    </tr>\n",
       "    <tr>\n",
       "      <th>2</th>\n",
       "      <td>2</td>\n",
       "      <td>1</td>\n",
       "      <td>2008</td>\n",
       "    </tr>\n",
       "    <tr>\n",
       "      <th>3</th>\n",
       "      <td>3</td>\n",
       "      <td>2</td>\n",
       "      <td>132</td>\n",
       "    </tr>\n",
       "    <tr>\n",
       "      <th>4</th>\n",
       "      <td>4</td>\n",
       "      <td>3</td>\n",
       "      <td>941</td>\n",
       "    </tr>\n",
       "    <tr>\n",
       "      <th>...</th>\n",
       "      <td>...</td>\n",
       "      <td>...</td>\n",
       "      <td>...</td>\n",
       "    </tr>\n",
       "    <tr>\n",
       "      <th>190</th>\n",
       "      <td>190</td>\n",
       "      <td>7</td>\n",
       "      <td>12</td>\n",
       "    </tr>\n",
       "    <tr>\n",
       "      <th>191</th>\n",
       "      <td>191</td>\n",
       "      <td>1</td>\n",
       "      <td>8</td>\n",
       "    </tr>\n",
       "    <tr>\n",
       "      <th>192</th>\n",
       "      <td>192</td>\n",
       "      <td>5</td>\n",
       "      <td>15</td>\n",
       "    </tr>\n",
       "    <tr>\n",
       "      <th>193</th>\n",
       "      <td>193</td>\n",
       "      <td>0</td>\n",
       "      <td>9</td>\n",
       "    </tr>\n",
       "    <tr>\n",
       "      <th>194</th>\n",
       "      <td>194</td>\n",
       "      <td>1</td>\n",
       "      <td>9</td>\n",
       "    </tr>\n",
       "  </tbody>\n",
       "</table>\n",
       "<p>195 rows × 3 columns</p>\n",
       "</div>"
      ],
      "text/plain": [
       "     theme  group   qty\n",
       "0        0      0    18\n",
       "1        1      1  1886\n",
       "2        2      1  2008\n",
       "3        3      2   132\n",
       "4        4      3   941\n",
       "..     ...    ...   ...\n",
       "190    190      7    12\n",
       "191    191      1     8\n",
       "192    192      5    15\n",
       "193    193      0     9\n",
       "194    194      1     9\n",
       "\n",
       "[195 rows x 3 columns]"
      ]
     },
     "execution_count": 22,
     "metadata": {},
     "output_type": "execute_result"
    }
   ],
   "source": [
    "df_data = pd.read_csv('data.csv')\n",
    "df_group_theme = df_data.groupby(['theme', 'group']).group.count().rename('qty').reset_index()\n",
    "df_group_theme"
   ]
  },
  {
   "cell_type": "code",
   "execution_count": 23,
   "id": "5a4d2cdf-4c43-46c5-8811-787a181363d8",
   "metadata": {},
   "outputs": [],
   "source": [
    "def theme_to_group(theme):\n",
    "    return df_group_theme.group.loc[theme]"
   ]
  },
  {
   "cell_type": "code",
   "execution_count": 34,
   "id": "ed9d932a-124b-4338-88df-088787d0b9cc",
   "metadata": {},
   "outputs": [
    {
     "data": {
      "text/plain": [
       "((2313,), (2313,))"
      ]
     },
     "execution_count": 34,
     "metadata": {},
     "output_type": "execute_result"
    }
   ],
   "source": [
    "y_true = pd.Series(y_test).apply(theme_to_group).to_numpy()\n",
    "y_true.shape, y_test.shape"
   ]
  },
  {
   "cell_type": "code",
   "execution_count": 35,
   "id": "ea4cf3a7-8f69-465e-87aa-39dc61e159bd",
   "metadata": {},
   "outputs": [
    {
     "data": {
      "text/plain": [
       "(2313,)"
      ]
     },
     "execution_count": 35,
     "metadata": {},
     "output_type": "execute_result"
    }
   ],
   "source": [
    "pd.Series(y_pred.flat).apply(theme_to_group).to_numpy().shape"
   ]
  },
  {
   "cell_type": "code",
   "execution_count": 37,
   "id": "1225ed2b-38c4-4b56-b2c8-b08ff4e759b4",
   "metadata": {},
   "outputs": [
    {
     "data": {
      "text/plain": [
       "0.13612555442321606"
      ]
     },
     "execution_count": 37,
     "metadata": {},
     "output_type": "execute_result"
    }
   ],
   "source": [
    "f1_score(y_true, pd.Series(y_pred.flat).apply(theme_to_group).to_numpy(), average='macro')"
   ]
  },
  {
   "cell_type": "code",
   "execution_count": 38,
   "id": "5a1d1ade-4497-4e40-894e-3843eb64d8a4",
   "metadata": {},
   "outputs": [
    {
     "data": {
      "text/plain": [
       "0.4340683095546909"
      ]
     },
     "execution_count": 38,
     "metadata": {},
     "output_type": "execute_result"
    }
   ],
   "source": [
    "f1_score(y_true, pd.Series(y_pred.flat).apply(theme_to_group).to_numpy(), average='micro')"
   ]
  },
  {
   "cell_type": "code",
   "execution_count": 62,
   "id": "f1411fc7-d62b-4eb3-aabf-d628b88f9e9c",
   "metadata": {},
   "outputs": [
    {
     "ename": "ValueError",
     "evalue": "Found input variables with inconsistent numbers of samples: [2313, 4626]",
     "output_type": "error",
     "traceback": [
      "\u001b[0;31m---------------------------------------------------------------------------\u001b[0m",
      "\u001b[0;31mValueError\u001b[0m                                Traceback (most recent call last)",
      "Cell \u001b[0;32mIn[62], line 1\u001b[0m\n\u001b[0;32m----> 1\u001b[0m \u001b[43mf1_score\u001b[49m\u001b[43m(\u001b[49m\u001b[43my_true\u001b[49m\u001b[43m,\u001b[49m\u001b[43m \u001b[49m\u001b[43mpd\u001b[49m\u001b[38;5;241;43m.\u001b[39;49m\u001b[43mSeries\u001b[49m\u001b[43m(\u001b[49m\u001b[43my_pred\u001b[49m\u001b[38;5;241;43m.\u001b[39;49m\u001b[43mflat\u001b[49m\u001b[43m)\u001b[49m\u001b[38;5;241;43m.\u001b[39;49m\u001b[43mapply\u001b[49m\u001b[43m(\u001b[49m\u001b[43mtheme_to_group\u001b[49m\u001b[43m)\u001b[49m\u001b[38;5;241;43m.\u001b[39;49m\u001b[43mto_numpy\u001b[49m\u001b[43m(\u001b[49m\u001b[43m)\u001b[49m\u001b[43m,\u001b[49m\u001b[43m \u001b[49m\u001b[43maverage\u001b[49m\u001b[38;5;241;43m=\u001b[39;49m\u001b[38;5;124;43m'\u001b[39;49m\u001b[38;5;124;43mmacro\u001b[39;49m\u001b[38;5;124;43m'\u001b[39;49m\u001b[43m)\u001b[49m,\n\u001b[1;32m      2\u001b[0m f1_score(y_true, pd\u001b[38;5;241m.\u001b[39mSeries(y_pred\u001b[38;5;241m.\u001b[39mflat)\u001b[38;5;241m.\u001b[39mapply(theme_to_group)\u001b[38;5;241m.\u001b[39mto_numpy(), average\u001b[38;5;241m=\u001b[39m\u001b[38;5;124m'\u001b[39m\u001b[38;5;124mmicro\u001b[39m\u001b[38;5;124m'\u001b[39m)\n",
      "File \u001b[0;32m/usr/lib/python3.11/site-packages/sklearn/utils/_param_validation.py:214\u001b[0m, in \u001b[0;36mvalidate_params.<locals>.decorator.<locals>.wrapper\u001b[0;34m(*args, **kwargs)\u001b[0m\n\u001b[1;32m    208\u001b[0m \u001b[38;5;28;01mtry\u001b[39;00m:\n\u001b[1;32m    209\u001b[0m     \u001b[38;5;28;01mwith\u001b[39;00m config_context(\n\u001b[1;32m    210\u001b[0m         skip_parameter_validation\u001b[38;5;241m=\u001b[39m(\n\u001b[1;32m    211\u001b[0m             prefer_skip_nested_validation \u001b[38;5;129;01mor\u001b[39;00m global_skip_validation\n\u001b[1;32m    212\u001b[0m         )\n\u001b[1;32m    213\u001b[0m     ):\n\u001b[0;32m--> 214\u001b[0m         \u001b[38;5;28;01mreturn\u001b[39;00m \u001b[43mfunc\u001b[49m\u001b[43m(\u001b[49m\u001b[38;5;241;43m*\u001b[39;49m\u001b[43margs\u001b[49m\u001b[43m,\u001b[49m\u001b[43m \u001b[49m\u001b[38;5;241;43m*\u001b[39;49m\u001b[38;5;241;43m*\u001b[39;49m\u001b[43mkwargs\u001b[49m\u001b[43m)\u001b[49m\n\u001b[1;32m    215\u001b[0m \u001b[38;5;28;01mexcept\u001b[39;00m InvalidParameterError \u001b[38;5;28;01mas\u001b[39;00m e:\n\u001b[1;32m    216\u001b[0m     \u001b[38;5;66;03m# When the function is just a wrapper around an estimator, we allow\u001b[39;00m\n\u001b[1;32m    217\u001b[0m     \u001b[38;5;66;03m# the function to delegate validation to the estimator, but we replace\u001b[39;00m\n\u001b[1;32m    218\u001b[0m     \u001b[38;5;66;03m# the name of the estimator by the name of the function in the error\u001b[39;00m\n\u001b[1;32m    219\u001b[0m     \u001b[38;5;66;03m# message to avoid confusion.\u001b[39;00m\n\u001b[1;32m    220\u001b[0m     msg \u001b[38;5;241m=\u001b[39m re\u001b[38;5;241m.\u001b[39msub(\n\u001b[1;32m    221\u001b[0m         \u001b[38;5;124mr\u001b[39m\u001b[38;5;124m\"\u001b[39m\u001b[38;5;124mparameter of \u001b[39m\u001b[38;5;124m\\\u001b[39m\u001b[38;5;124mw+ must be\u001b[39m\u001b[38;5;124m\"\u001b[39m,\n\u001b[1;32m    222\u001b[0m         \u001b[38;5;124mf\u001b[39m\u001b[38;5;124m\"\u001b[39m\u001b[38;5;124mparameter of \u001b[39m\u001b[38;5;132;01m{\u001b[39;00mfunc\u001b[38;5;241m.\u001b[39m\u001b[38;5;18m__qualname__\u001b[39m\u001b[38;5;132;01m}\u001b[39;00m\u001b[38;5;124m must be\u001b[39m\u001b[38;5;124m\"\u001b[39m,\n\u001b[1;32m    223\u001b[0m         \u001b[38;5;28mstr\u001b[39m(e),\n\u001b[1;32m    224\u001b[0m     )\n",
      "File \u001b[0;32m/usr/lib/python3.11/site-packages/sklearn/metrics/_classification.py:1239\u001b[0m, in \u001b[0;36mf1_score\u001b[0;34m(y_true, y_pred, labels, pos_label, average, sample_weight, zero_division)\u001b[0m\n\u001b[1;32m   1070\u001b[0m \u001b[38;5;129m@validate_params\u001b[39m(\n\u001b[1;32m   1071\u001b[0m     {\n\u001b[1;32m   1072\u001b[0m         \u001b[38;5;124m\"\u001b[39m\u001b[38;5;124my_true\u001b[39m\u001b[38;5;124m\"\u001b[39m: [\u001b[38;5;124m\"\u001b[39m\u001b[38;5;124marray-like\u001b[39m\u001b[38;5;124m\"\u001b[39m, \u001b[38;5;124m\"\u001b[39m\u001b[38;5;124msparse matrix\u001b[39m\u001b[38;5;124m\"\u001b[39m],\n\u001b[0;32m   (...)\u001b[0m\n\u001b[1;32m   1097\u001b[0m     zero_division\u001b[38;5;241m=\u001b[39m\u001b[38;5;124m\"\u001b[39m\u001b[38;5;124mwarn\u001b[39m\u001b[38;5;124m\"\u001b[39m,\n\u001b[1;32m   1098\u001b[0m ):\n\u001b[1;32m   1099\u001b[0m \u001b[38;5;250m    \u001b[39m\u001b[38;5;124;03m\"\"\"Compute the F1 score, also known as balanced F-score or F-measure.\u001b[39;00m\n\u001b[1;32m   1100\u001b[0m \n\u001b[1;32m   1101\u001b[0m \u001b[38;5;124;03m    The F1 score can be interpreted as a harmonic mean of the precision and\u001b[39;00m\n\u001b[0;32m   (...)\u001b[0m\n\u001b[1;32m   1237\u001b[0m \u001b[38;5;124;03m    array([0.66666667, 1.        , 0.66666667])\u001b[39;00m\n\u001b[1;32m   1238\u001b[0m \u001b[38;5;124;03m    \"\"\"\u001b[39;00m\n\u001b[0;32m-> 1239\u001b[0m     \u001b[38;5;28;01mreturn\u001b[39;00m \u001b[43mfbeta_score\u001b[49m\u001b[43m(\u001b[49m\n\u001b[1;32m   1240\u001b[0m \u001b[43m        \u001b[49m\u001b[43my_true\u001b[49m\u001b[43m,\u001b[49m\n\u001b[1;32m   1241\u001b[0m \u001b[43m        \u001b[49m\u001b[43my_pred\u001b[49m\u001b[43m,\u001b[49m\n\u001b[1;32m   1242\u001b[0m \u001b[43m        \u001b[49m\u001b[43mbeta\u001b[49m\u001b[38;5;241;43m=\u001b[39;49m\u001b[38;5;241;43m1\u001b[39;49m\u001b[43m,\u001b[49m\n\u001b[1;32m   1243\u001b[0m \u001b[43m        \u001b[49m\u001b[43mlabels\u001b[49m\u001b[38;5;241;43m=\u001b[39;49m\u001b[43mlabels\u001b[49m\u001b[43m,\u001b[49m\n\u001b[1;32m   1244\u001b[0m \u001b[43m        \u001b[49m\u001b[43mpos_label\u001b[49m\u001b[38;5;241;43m=\u001b[39;49m\u001b[43mpos_label\u001b[49m\u001b[43m,\u001b[49m\n\u001b[1;32m   1245\u001b[0m \u001b[43m        \u001b[49m\u001b[43maverage\u001b[49m\u001b[38;5;241;43m=\u001b[39;49m\u001b[43maverage\u001b[49m\u001b[43m,\u001b[49m\n\u001b[1;32m   1246\u001b[0m \u001b[43m        \u001b[49m\u001b[43msample_weight\u001b[49m\u001b[38;5;241;43m=\u001b[39;49m\u001b[43msample_weight\u001b[49m\u001b[43m,\u001b[49m\n\u001b[1;32m   1247\u001b[0m \u001b[43m        \u001b[49m\u001b[43mzero_division\u001b[49m\u001b[38;5;241;43m=\u001b[39;49m\u001b[43mzero_division\u001b[49m\u001b[43m,\u001b[49m\n\u001b[1;32m   1248\u001b[0m \u001b[43m    \u001b[49m\u001b[43m)\u001b[49m\n",
      "File \u001b[0;32m/usr/lib/python3.11/site-packages/sklearn/utils/_param_validation.py:187\u001b[0m, in \u001b[0;36mvalidate_params.<locals>.decorator.<locals>.wrapper\u001b[0;34m(*args, **kwargs)\u001b[0m\n\u001b[1;32m    185\u001b[0m global_skip_validation \u001b[38;5;241m=\u001b[39m get_config()[\u001b[38;5;124m\"\u001b[39m\u001b[38;5;124mskip_parameter_validation\u001b[39m\u001b[38;5;124m\"\u001b[39m]\n\u001b[1;32m    186\u001b[0m \u001b[38;5;28;01mif\u001b[39;00m global_skip_validation:\n\u001b[0;32m--> 187\u001b[0m     \u001b[38;5;28;01mreturn\u001b[39;00m \u001b[43mfunc\u001b[49m\u001b[43m(\u001b[49m\u001b[38;5;241;43m*\u001b[39;49m\u001b[43margs\u001b[49m\u001b[43m,\u001b[49m\u001b[43m \u001b[49m\u001b[38;5;241;43m*\u001b[39;49m\u001b[38;5;241;43m*\u001b[39;49m\u001b[43mkwargs\u001b[49m\u001b[43m)\u001b[49m\n\u001b[1;32m    189\u001b[0m func_sig \u001b[38;5;241m=\u001b[39m signature(func)\n\u001b[1;32m    191\u001b[0m \u001b[38;5;66;03m# Map *args/**kwargs to the function signature\u001b[39;00m\n",
      "File \u001b[0;32m/usr/lib/python3.11/site-packages/sklearn/metrics/_classification.py:1413\u001b[0m, in \u001b[0;36mfbeta_score\u001b[0;34m(y_true, y_pred, beta, labels, pos_label, average, sample_weight, zero_division)\u001b[0m\n\u001b[1;32m   1251\u001b[0m \u001b[38;5;129m@validate_params\u001b[39m(\n\u001b[1;32m   1252\u001b[0m     {\n\u001b[1;32m   1253\u001b[0m         \u001b[38;5;124m\"\u001b[39m\u001b[38;5;124my_true\u001b[39m\u001b[38;5;124m\"\u001b[39m: [\u001b[38;5;124m\"\u001b[39m\u001b[38;5;124marray-like\u001b[39m\u001b[38;5;124m\"\u001b[39m, \u001b[38;5;124m\"\u001b[39m\u001b[38;5;124msparse matrix\u001b[39m\u001b[38;5;124m\"\u001b[39m],\n\u001b[0;32m   (...)\u001b[0m\n\u001b[1;32m   1280\u001b[0m     zero_division\u001b[38;5;241m=\u001b[39m\u001b[38;5;124m\"\u001b[39m\u001b[38;5;124mwarn\u001b[39m\u001b[38;5;124m\"\u001b[39m,\n\u001b[1;32m   1281\u001b[0m ):\n\u001b[1;32m   1282\u001b[0m \u001b[38;5;250m    \u001b[39m\u001b[38;5;124;03m\"\"\"Compute the F-beta score.\u001b[39;00m\n\u001b[1;32m   1283\u001b[0m \n\u001b[1;32m   1284\u001b[0m \u001b[38;5;124;03m    The F-beta score is the weighted harmonic mean of precision and recall,\u001b[39;00m\n\u001b[0;32m   (...)\u001b[0m\n\u001b[1;32m   1410\u001b[0m \u001b[38;5;124;03m    0.38...\u001b[39;00m\n\u001b[1;32m   1411\u001b[0m \u001b[38;5;124;03m    \"\"\"\u001b[39;00m\n\u001b[0;32m-> 1413\u001b[0m     _, _, f, _ \u001b[38;5;241m=\u001b[39m \u001b[43mprecision_recall_fscore_support\u001b[49m\u001b[43m(\u001b[49m\n\u001b[1;32m   1414\u001b[0m \u001b[43m        \u001b[49m\u001b[43my_true\u001b[49m\u001b[43m,\u001b[49m\n\u001b[1;32m   1415\u001b[0m \u001b[43m        \u001b[49m\u001b[43my_pred\u001b[49m\u001b[43m,\u001b[49m\n\u001b[1;32m   1416\u001b[0m \u001b[43m        \u001b[49m\u001b[43mbeta\u001b[49m\u001b[38;5;241;43m=\u001b[39;49m\u001b[43mbeta\u001b[49m\u001b[43m,\u001b[49m\n\u001b[1;32m   1417\u001b[0m \u001b[43m        \u001b[49m\u001b[43mlabels\u001b[49m\u001b[38;5;241;43m=\u001b[39;49m\u001b[43mlabels\u001b[49m\u001b[43m,\u001b[49m\n\u001b[1;32m   1418\u001b[0m \u001b[43m        \u001b[49m\u001b[43mpos_label\u001b[49m\u001b[38;5;241;43m=\u001b[39;49m\u001b[43mpos_label\u001b[49m\u001b[43m,\u001b[49m\n\u001b[1;32m   1419\u001b[0m \u001b[43m        \u001b[49m\u001b[43maverage\u001b[49m\u001b[38;5;241;43m=\u001b[39;49m\u001b[43maverage\u001b[49m\u001b[43m,\u001b[49m\n\u001b[1;32m   1420\u001b[0m \u001b[43m        \u001b[49m\u001b[43mwarn_for\u001b[49m\u001b[38;5;241;43m=\u001b[39;49m\u001b[43m(\u001b[49m\u001b[38;5;124;43m\"\u001b[39;49m\u001b[38;5;124;43mf-score\u001b[39;49m\u001b[38;5;124;43m\"\u001b[39;49m\u001b[43m,\u001b[49m\u001b[43m)\u001b[49m\u001b[43m,\u001b[49m\n\u001b[1;32m   1421\u001b[0m \u001b[43m        \u001b[49m\u001b[43msample_weight\u001b[49m\u001b[38;5;241;43m=\u001b[39;49m\u001b[43msample_weight\u001b[49m\u001b[43m,\u001b[49m\n\u001b[1;32m   1422\u001b[0m \u001b[43m        \u001b[49m\u001b[43mzero_division\u001b[49m\u001b[38;5;241;43m=\u001b[39;49m\u001b[43mzero_division\u001b[49m\u001b[43m,\u001b[49m\n\u001b[1;32m   1423\u001b[0m \u001b[43m    \u001b[49m\u001b[43m)\u001b[49m\n\u001b[1;32m   1424\u001b[0m     \u001b[38;5;28;01mreturn\u001b[39;00m f\n",
      "File \u001b[0;32m/usr/lib/python3.11/site-packages/sklearn/utils/_param_validation.py:187\u001b[0m, in \u001b[0;36mvalidate_params.<locals>.decorator.<locals>.wrapper\u001b[0;34m(*args, **kwargs)\u001b[0m\n\u001b[1;32m    185\u001b[0m global_skip_validation \u001b[38;5;241m=\u001b[39m get_config()[\u001b[38;5;124m\"\u001b[39m\u001b[38;5;124mskip_parameter_validation\u001b[39m\u001b[38;5;124m\"\u001b[39m]\n\u001b[1;32m    186\u001b[0m \u001b[38;5;28;01mif\u001b[39;00m global_skip_validation:\n\u001b[0;32m--> 187\u001b[0m     \u001b[38;5;28;01mreturn\u001b[39;00m \u001b[43mfunc\u001b[49m\u001b[43m(\u001b[49m\u001b[38;5;241;43m*\u001b[39;49m\u001b[43margs\u001b[49m\u001b[43m,\u001b[49m\u001b[43m \u001b[49m\u001b[38;5;241;43m*\u001b[39;49m\u001b[38;5;241;43m*\u001b[39;49m\u001b[43mkwargs\u001b[49m\u001b[43m)\u001b[49m\n\u001b[1;32m    189\u001b[0m func_sig \u001b[38;5;241m=\u001b[39m signature(func)\n\u001b[1;32m    191\u001b[0m \u001b[38;5;66;03m# Map *args/**kwargs to the function signature\u001b[39;00m\n",
      "File \u001b[0;32m/usr/lib/python3.11/site-packages/sklearn/metrics/_classification.py:1724\u001b[0m, in \u001b[0;36mprecision_recall_fscore_support\u001b[0;34m(y_true, y_pred, beta, labels, pos_label, average, warn_for, sample_weight, zero_division)\u001b[0m\n\u001b[1;32m   1566\u001b[0m \u001b[38;5;250m\u001b[39m\u001b[38;5;124;03m\"\"\"Compute precision, recall, F-measure and support for each class.\u001b[39;00m\n\u001b[1;32m   1567\u001b[0m \n\u001b[1;32m   1568\u001b[0m \u001b[38;5;124;03mThe precision is the ratio ``tp / (tp + fp)`` where ``tp`` is the number of\u001b[39;00m\n\u001b[0;32m   (...)\u001b[0m\n\u001b[1;32m   1721\u001b[0m \u001b[38;5;124;03m array([2, 2, 2]))\u001b[39;00m\n\u001b[1;32m   1722\u001b[0m \u001b[38;5;124;03m\"\"\"\u001b[39;00m\n\u001b[1;32m   1723\u001b[0m zero_division_value \u001b[38;5;241m=\u001b[39m _check_zero_division(zero_division)\n\u001b[0;32m-> 1724\u001b[0m labels \u001b[38;5;241m=\u001b[39m \u001b[43m_check_set_wise_labels\u001b[49m\u001b[43m(\u001b[49m\u001b[43my_true\u001b[49m\u001b[43m,\u001b[49m\u001b[43m \u001b[49m\u001b[43my_pred\u001b[49m\u001b[43m,\u001b[49m\u001b[43m \u001b[49m\u001b[43maverage\u001b[49m\u001b[43m,\u001b[49m\u001b[43m \u001b[49m\u001b[43mlabels\u001b[49m\u001b[43m,\u001b[49m\u001b[43m \u001b[49m\u001b[43mpos_label\u001b[49m\u001b[43m)\u001b[49m\n\u001b[1;32m   1726\u001b[0m \u001b[38;5;66;03m# Calculate tp_sum, pred_sum, true_sum ###\u001b[39;00m\n\u001b[1;32m   1727\u001b[0m samplewise \u001b[38;5;241m=\u001b[39m average \u001b[38;5;241m==\u001b[39m \u001b[38;5;124m\"\u001b[39m\u001b[38;5;124msamples\u001b[39m\u001b[38;5;124m\"\u001b[39m\n",
      "File \u001b[0;32m/usr/lib/python3.11/site-packages/sklearn/metrics/_classification.py:1501\u001b[0m, in \u001b[0;36m_check_set_wise_labels\u001b[0;34m(y_true, y_pred, average, labels, pos_label)\u001b[0m\n\u001b[1;32m   1498\u001b[0m \u001b[38;5;28;01mif\u001b[39;00m average \u001b[38;5;129;01mnot\u001b[39;00m \u001b[38;5;129;01min\u001b[39;00m average_options \u001b[38;5;129;01mand\u001b[39;00m average \u001b[38;5;241m!=\u001b[39m \u001b[38;5;124m\"\u001b[39m\u001b[38;5;124mbinary\u001b[39m\u001b[38;5;124m\"\u001b[39m:\n\u001b[1;32m   1499\u001b[0m     \u001b[38;5;28;01mraise\u001b[39;00m \u001b[38;5;167;01mValueError\u001b[39;00m(\u001b[38;5;124m\"\u001b[39m\u001b[38;5;124maverage has to be one of \u001b[39m\u001b[38;5;124m\"\u001b[39m \u001b[38;5;241m+\u001b[39m \u001b[38;5;28mstr\u001b[39m(average_options))\n\u001b[0;32m-> 1501\u001b[0m y_type, y_true, y_pred \u001b[38;5;241m=\u001b[39m \u001b[43m_check_targets\u001b[49m\u001b[43m(\u001b[49m\u001b[43my_true\u001b[49m\u001b[43m,\u001b[49m\u001b[43m \u001b[49m\u001b[43my_pred\u001b[49m\u001b[43m)\u001b[49m\n\u001b[1;32m   1502\u001b[0m \u001b[38;5;66;03m# Convert to Python primitive type to avoid NumPy type / Python str\u001b[39;00m\n\u001b[1;32m   1503\u001b[0m \u001b[38;5;66;03m# comparison. See https://github.com/numpy/numpy/issues/6784\u001b[39;00m\n\u001b[1;32m   1504\u001b[0m present_labels \u001b[38;5;241m=\u001b[39m unique_labels(y_true, y_pred)\u001b[38;5;241m.\u001b[39mtolist()\n",
      "File \u001b[0;32m/usr/lib/python3.11/site-packages/sklearn/metrics/_classification.py:84\u001b[0m, in \u001b[0;36m_check_targets\u001b[0;34m(y_true, y_pred)\u001b[0m\n\u001b[1;32m     57\u001b[0m \u001b[38;5;28;01mdef\u001b[39;00m \u001b[38;5;21m_check_targets\u001b[39m(y_true, y_pred):\n\u001b[1;32m     58\u001b[0m \u001b[38;5;250m    \u001b[39m\u001b[38;5;124;03m\"\"\"Check that y_true and y_pred belong to the same classification task.\u001b[39;00m\n\u001b[1;32m     59\u001b[0m \n\u001b[1;32m     60\u001b[0m \u001b[38;5;124;03m    This converts multiclass or binary types to a common shape, and raises a\u001b[39;00m\n\u001b[0;32m   (...)\u001b[0m\n\u001b[1;32m     82\u001b[0m \u001b[38;5;124;03m    y_pred : array or indicator matrix\u001b[39;00m\n\u001b[1;32m     83\u001b[0m \u001b[38;5;124;03m    \"\"\"\u001b[39;00m\n\u001b[0;32m---> 84\u001b[0m     \u001b[43mcheck_consistent_length\u001b[49m\u001b[43m(\u001b[49m\u001b[43my_true\u001b[49m\u001b[43m,\u001b[49m\u001b[43m \u001b[49m\u001b[43my_pred\u001b[49m\u001b[43m)\u001b[49m\n\u001b[1;32m     85\u001b[0m     type_true \u001b[38;5;241m=\u001b[39m type_of_target(y_true, input_name\u001b[38;5;241m=\u001b[39m\u001b[38;5;124m\"\u001b[39m\u001b[38;5;124my_true\u001b[39m\u001b[38;5;124m\"\u001b[39m)\n\u001b[1;32m     86\u001b[0m     type_pred \u001b[38;5;241m=\u001b[39m type_of_target(y_pred, input_name\u001b[38;5;241m=\u001b[39m\u001b[38;5;124m\"\u001b[39m\u001b[38;5;124my_pred\u001b[39m\u001b[38;5;124m\"\u001b[39m)\n",
      "File \u001b[0;32m/usr/lib/python3.11/site-packages/sklearn/utils/validation.py:407\u001b[0m, in \u001b[0;36mcheck_consistent_length\u001b[0;34m(*arrays)\u001b[0m\n\u001b[1;32m    405\u001b[0m uniques \u001b[38;5;241m=\u001b[39m np\u001b[38;5;241m.\u001b[39munique(lengths)\n\u001b[1;32m    406\u001b[0m \u001b[38;5;28;01mif\u001b[39;00m \u001b[38;5;28mlen\u001b[39m(uniques) \u001b[38;5;241m>\u001b[39m \u001b[38;5;241m1\u001b[39m:\n\u001b[0;32m--> 407\u001b[0m     \u001b[38;5;28;01mraise\u001b[39;00m \u001b[38;5;167;01mValueError\u001b[39;00m(\n\u001b[1;32m    408\u001b[0m         \u001b[38;5;124m\"\u001b[39m\u001b[38;5;124mFound input variables with inconsistent numbers of samples: \u001b[39m\u001b[38;5;132;01m%r\u001b[39;00m\u001b[38;5;124m\"\u001b[39m\n\u001b[1;32m    409\u001b[0m         \u001b[38;5;241m%\u001b[39m [\u001b[38;5;28mint\u001b[39m(l) \u001b[38;5;28;01mfor\u001b[39;00m l \u001b[38;5;129;01min\u001b[39;00m lengths]\n\u001b[1;32m    410\u001b[0m     )\n",
      "\u001b[0;31mValueError\u001b[0m: Found input variables with inconsistent numbers of samples: [2313, 4626]"
     ]
    }
   ],
   "source": [
    "f1_score(y_true, pd.Series(y_pred.flat).apply(theme_to_group).to_numpy(), average='macro'),\n",
    "f1_score(y_true, pd.Series(y_pred.flat).apply(theme_to_group).to_numpy(), average='micro')"
   ]
  },
  {
   "cell_type": "code",
   "execution_count": 40,
   "id": "98440cd5-c2e2-4b84-8d81-69af9438d1fa",
   "metadata": {},
   "outputs": [
    {
     "data": {
      "text/plain": [
       "0.4059885024725448"
      ]
     },
     "execution_count": 40,
     "metadata": {},
     "output_type": "execute_result"
    }
   ],
   "source": [
    "f1_score(y_true, pd.Series(y_pred.flat).apply(theme_to_group).to_numpy(), average='weighted')"
   ]
  },
  {
   "cell_type": "code",
   "execution_count": 41,
   "id": "b5854b16-42c7-4d4a-bd9d-ff26c4a3f85b",
   "metadata": {},
   "outputs": [
    {
     "data": {
      "text/plain": [
       "0.1560710633034064"
      ]
     },
     "execution_count": 41,
     "metadata": {},
     "output_type": "execute_result"
    }
   ],
   "source": [
    "f1_score(y_test, y_pred, average='weighted')"
   ]
  },
  {
   "cell_type": "code",
   "execution_count": 49,
   "id": "4eadb476-6442-4063-8a1f-9c6c67754906",
   "metadata": {},
   "outputs": [
    {
     "name": "stdout",
     "output_type": "stream",
     "text": [
      "(10849, 1024)\n"
     ]
    }
   ],
   "source": [
    "sapecon = 20    # samples per contractor\n",
    "class_qty = len(df_data.contractor.unique())\n",
    "samples_qty = len(df_data)\n",
    "\n",
    "quantities = np.zeros((class_qty, ))\n",
    "indices = np.zeros((class_qty*sapecon, ), dtype='int32')\n",
    "cur_index = 0\n",
    "for i, row in enumerate(df_data[df_data.len_sum.notna()].iloc):\n",
    "    if quantities[row.contractor] < sapecon:\n",
    "        quantities[row.contractor] += 1\n",
    "        indices[cur_index] = row.name\n",
    "        cur_index +=1\n",
    "        if row.name > samples_qty:\n",
    "            print(i, row)\n",
    "            break\n",
    "    if cur_index >= class_qty*sapecon:\n",
    "        break\n",
    "    \n",
    "outputs = []\n",
    "for i in range(5):\n",
    "    with open(f'sbert_{i}.pickle', 'rb') as f:\n",
    "        outputs += pickle.load(f)\n",
    "        \n",
    "new_outputs = []\n",
    "for index in indices:\n",
    "    new_outputs.append(outputs[index])\n",
    "\n",
    "new_outputs = np.concatenate(new_outputs)\n",
    "print(new_outputs.shape)"
   ]
  },
  {
   "cell_type": "code",
   "execution_count": 50,
   "id": "29c90428-8bda-487e-8520-bc06d0390884",
   "metadata": {},
   "outputs": [
    {
     "name": "stdout",
     "output_type": "stream",
     "text": [
      "24.11.2023 22:38:43\n",
      "Готово 24.11.2023 22:38:44\n",
      "0 days 00:00:00.934496\n",
      "1803585.375\n"
     ]
    }
   ],
   "source": [
    "start_time = pd.Timestamp.now()\n",
    "print(start_time.strftime('%d.%m.%Y %X'))\n",
    "\n",
    "n_clusters = class_qty*3\n",
    "kmean_c = cluster.MiniBatchKMeans(n_clusters=n_clusters, random_state=0,\n",
    "                                  n_init=\"auto\", batch_size=n_clusters*10,\n",
    "                                  max_iter=5000,\n",
    "                                 )\n",
    "kmean_c.fit(new_outputs)\n",
    "stop_time = pd.Timestamp.now()\n",
    "print('Готово', stop_time.strftime('%d.%m.%Y %X'))\n",
    "print(stop_time-start_time)\n",
    "print(kmean_c.inertia_)"
   ]
  },
  {
   "cell_type": "code",
   "execution_count": 51,
   "id": "be2aa8cd-6270-4517-acab-07857f976945",
   "metadata": {},
   "outputs": [
    {
     "name": "stdout",
     "output_type": "stream",
     "text": [
      "Начало 24.11.2023 22:55:05\n",
      " 10% 24.11.2023 22:56:16 0 days 00:01:11.171539\n",
      " 20% 24.11.2023 22:57:28 0 days 00:01:12.104631\n",
      " 30% 24.11.2023 22:58:38 0 days 00:01:10.480227\n",
      " 40% 24.11.2023 22:59:49 0 days 00:01:10.355693\n",
      " 50% 24.11.2023 23:00:58 0 days 00:01:09.346172\n",
      " 60% 24.11.2023 23:02:09 0 days 00:01:10.695017\n",
      " 70% 24.11.2023 23:03:21 0 days 00:01:12.445938\n",
      " 80% 24.11.2023 23:04:34 0 days 00:01:12.558557\n",
      " 90% 24.11.2023 23:05:43 0 days 00:01:09.009809\n",
      "Завершено 24.11.2023 23:06:54\n",
      "Продолжительность 0 days 00:11:49.667258\n"
     ]
    }
   ],
   "source": [
    "sample_qty = len(df_data)\n",
    "\n",
    "prog_mon = ProgressMonitor(sample_qty)\n",
    "xs = pd.DataFrame(np.zeros((n_clusters, sample_qty, )))\n",
    "for i in range(sample_qty):\n",
    "    clusters = kmeans.predict(outputs[i])\n",
    "    xs[i] = pd.Series(clusters).value_counts(normalize=True)\n",
    "    prog_mon.update(i)\n",
    "xs = xs.fillna(0).T\n",
    "prog_mon.finish()"
   ]
  },
  {
   "cell_type": "code",
   "execution_count": 52,
   "id": "f23011f1-ae81-4479-836f-41b6acf0b986",
   "metadata": {},
   "outputs": [],
   "source": [
    "del outputs"
   ]
  },
  {
   "cell_type": "code",
   "execution_count": 53,
   "id": "5cb7af79-01cb-43c4-a6b4-41a74b562778",
   "metadata": {},
   "outputs": [
    {
     "data": {
      "text/plain": [
       "(23128, 30)"
      ]
     },
     "execution_count": 53,
     "metadata": {},
     "output_type": "execute_result"
    }
   ],
   "source": [
    "xs.shape"
   ]
  },
  {
   "cell_type": "code",
   "execution_count": 61,
   "id": "7025ffc0-e7e3-4c21-9f3f-31e50e5a1084",
   "metadata": {},
   "outputs": [
    {
     "name": "stdout",
     "output_type": "stream",
     "text": [
      "Начали 00:18:47\n",
      "0.18734939608527415\n",
      "Готово, 00:24:12\n"
     ]
    }
   ],
   "source": [
    "ys = df_data.contractor\n",
    "X_train, X_test, y_train, y_test = train_test_split(xs.to_numpy(), ys.to_numpy(), test_size=0.2,\n",
    "                                                    stratify=ys.to_numpy(), random_state=random_state)\n",
    "cc_c = CatBoostClassifier(verbose=0, iterations=5000,    #, loss_function=MultiClassOneVsAll\n",
    "                        random_state=random_state, use_best_model=True, depth=8,)    #  eval_metric=\n",
    "print('Начали', pd.Timestamp.now().strftime('%X'))\n",
    "cc_c.fit(X_train, y_train, eval_set=(X_test, y_test))\n",
    "y_pred = cc_c.predict(X_test)\n",
    "score = f1_score(y_test, y_pred, average='weighted')\n",
    "print(score)\n",
    "\n",
    "print('Готово,', pd.Timestamp.now().strftime(\"%X\"))"
   ]
  },
  {
   "cell_type": "code",
   "execution_count": 60,
   "id": "b7608c46-e26f-4ad3-8364-b148c326319c",
   "metadata": {},
   "outputs": [
    {
     "data": {
      "text/plain": [
       "0.18670202029843222"
      ]
     },
     "execution_count": 60,
     "metadata": {},
     "output_type": "execute_result"
    }
   ],
   "source": [
    "score = f1_score(y_test, y_pred, average='weighted')\n",
    "score"
   ]
  },
  {
   "cell_type": "code",
   "execution_count": 58,
   "id": "e6703d9d-598b-4277-b2d0-1ba74fb3115d",
   "metadata": {},
   "outputs": [],
   "source": [
    "with open('kmean_c.pickle', 'wb')as f:\n",
    "    pickle.dump(kmean_c, f)\n",
    "with open('cc_c.pickle', 'wb')as f:\n",
    "    pickle.dump(cc_c, f)"
   ]
  },
  {
   "cell_type": "markdown",
   "id": "9483fdd2-7c74-42b2-a4af-e46e8a2a45ad",
   "metadata": {},
   "source": [
    "Когда надо обработать массив информации\n",
    "1. Готовим таблички: темы с номерами, группы с номерами, исполнители с номерами\n",
    "2. Готовим табличку темы - группы\n",
    "1. С помощью берта получаем эмбеддинги\n",
    "2. Загружаем kmean, обрабатываем эмбеддинги, получаем кластеры\n",
    "3. Считаем кластеры\n",
    "4. Загружаем кэтбуст, по количеству кластеров делаем классификацию\n",
    "5. Переводим номера тем в темы и группы, номера исполнителей - в исполнителей\n",
    "kmean и кэтбуст для тем и исполнителей разные"
   ]
  },
  {
   "cell_type": "code",
   "execution_count": null,
   "id": "9df799fd-3e02-4330-a477-7b8d0ef5ea5d",
   "metadata": {},
   "outputs": [],
   "source": []
  }
 ],
 "metadata": {
  "kernelspec": {
   "display_name": "Python 3 (ipykernel)",
   "language": "python",
   "name": "python3"
  },
  "language_info": {
   "codemirror_mode": {
    "name": "ipython",
    "version": 3
   },
   "file_extension": ".py",
   "mimetype": "text/x-python",
   "name": "python",
   "nbconvert_exporter": "python",
   "pygments_lexer": "ipython3",
   "version": "3.11.6"
  }
 },
 "nbformat": 4,
 "nbformat_minor": 5
}
